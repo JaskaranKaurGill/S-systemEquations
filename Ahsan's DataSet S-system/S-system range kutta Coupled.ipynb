{
 "cells": [
  {
   "cell_type": "code",
   "execution_count": 37,
   "metadata": {},
   "outputs": [],
   "source": [
    "import numpy as np\n",
    "from scipy.integrate import odeint\n",
    "import matplotlib.pyplot as plt\n",
    "import random\n",
    "import pandas as pd\n",
    "import time"
   ]
  },
  {
   "cell_type": "code",
   "execution_count": 38,
   "metadata": {},
   "outputs": [],
   "source": [
    "df = pd.read_excel('5gene.xlsx')\n",
    "ge_original = np.array(df)\n",
    "n = len(ge_original[1])\n",
    "t = len(ge_original)\n",
    "ge_original\n",
    "CR = 0.5\n",
    "F = 0.2\n"
   ]
  },
  {
   "cell_type": "code",
   "execution_count": 128,
   "metadata": {},
   "outputs": [],
   "source": [
    "A =np.array([ 5,10,10,8,10])\n",
    "B = np.array([ 10,10,10,10,10])\n",
    "g = np.array([[ 0,0,1,0,-1],\n",
    "        [2,0,0,0,0],\n",
    "        [ 0,-1,0,0,0 ],\n",
    "        [0,0,2,0,-1],\n",
    "        [0,0,0,2,0]])\n",
    "h= np.array([[2,0,0,0,0],\n",
    "        [0,2,0,0,0],\n",
    "        [0,-1,2,0,0],\n",
    "        [ 0,0,0,2,0],\n",
    "        [ 0,0,0,0,2]])"
   ]
  },
  {
   "cell_type": "code",
   "execution_count": 97,
   "metadata": {},
   "outputs": [
    {
     "data": {
      "text/plain": [
       "array([ 6,  2, 10, 18,  0])"
      ]
     },
     "execution_count": 97,
     "metadata": {},
     "output_type": "execute_result"
    }
   ],
   "source": [
    "A = np.array([ ,  2, 10, 18,  0])\n",
    "B = np.array([15,  4,  0, 14, 17])\n",
    "g = np.array([[-1,  2,  1, -2, -1],\n",
    "        [-3,  0,  0,  0,  0],\n",
    "        [ 0,  2,  0,  0, -2],\n",
    "        [ 0,  2,  1,  0, -2],\n",
    "        [-2,  0,  0,  0, -1]])\n",
    "h = np.array([[ 0,  2,  0, -1,  0],\n",
    "        [ 0,  1,  2, -1,  0],\n",
    "        [-1,  2,  1,  1,  1],\n",
    "        [ 1,  1,  0,  2,  1],\n",
    "        [ 2, -3,  0,  1,  2]])\n",
    "A"
   ]
  },
  {
   "cell_type": "markdown",
   "metadata": {},
   "source": [
    "<h1> Differential Evolutionary Algorithm for Gene Regulatory Network of 5 Genes <h1>\n",
    "<img src=\"ssystemequation.png\"><img>"
   ]
  },
  {
   "cell_type": "code",
   "execution_count": 132,
   "metadata": {},
   "outputs": [],
   "source": [
    "def calc_dydt(alpha, beta, g, h, exp ):\n",
    "    \n",
    "    #exp is the gene expression of the previous time step\n",
    "    \n",
    "    \n",
    "    #print(alpha,'*',exp[0],'^',g[0],'*',exp[1],'^',g[1],'*',exp[2],'^',g[2],'*',exp[3],'^',g[3],'*',exp[4],'^',g[4])\n",
    "    \n",
    "    Generation = alpha * (np.prod(pow(exp,g)))\n",
    "    Degeneration = beta* (np.prod(pow(exp,h)))\n",
    "    \n",
    "    return (Generation-Degeneration)\n",
    "    \n",
    "def calc_ge(p):\n",
    "    #p --> learning parameters as a dictionary \n",
    "    \n",
    "    #t -->is the length of time stamp\n",
    "    #n --> number of Genes\n",
    "    #init--> gene expression for time step 1\n",
    "    \n",
    "    original = ge_original.copy()\n",
    "    ge_calc = [original[0]]\n",
    "    H=0.001 #step size\n",
    "    ge_spline = [original[0]]\n",
    "    \n",
    "    for i in range((t-1)*10):\n",
    "     \n",
    "    \n",
    "        #tb = H*i\n",
    "       #linear spline interpolation\n",
    "        #ta = tb+2*(H) #only if the data is uniform\n",
    "        \n",
    "        #t_now = (i+1)*H #the current time step \n",
    "        \n",
    "        #X_ta = original[i].copy()\n",
    "        #X_tb = original[i+2].copy()\n",
    "        \n",
    "        \n",
    "        #print(tb,ta,i,i+2)\n",
    "        \n",
    "        #X_t = X_tb + (((X_ta-X_tb)/(ta-tb))*(t_now-tb))\n",
    "        \n",
    "        #ge_spline.append(X_t)\n",
    "        \n",
    "        single_exp=[]\n",
    "        #original\n",
    "        #print(\"original\")\n",
    "        #print(ge_original[i])\n",
    "        #print(\"after change---------\")\n",
    "        for j in range(n):\n",
    "            \n",
    "            #print(original[i][j])\n",
    "            \n",
    "            #ge_temp = ge_spline[i].copy()\n",
    "            \n",
    "            #ge_temp = ge_original[i].copy()\n",
    "            \n",
    "            ge_temp = ge_calc[i].copy()\n",
    "            \n",
    "            #print(\"for Gene \", j)\n",
    "            value = ge_calc[i][j].copy()\n",
    "            #ge_temp[j]=value\n",
    "            \n",
    "            #print(ge_temp==ge_original[i])\n",
    "            \n",
    "            k1 = calc_dydt(A[j],B[j],g[j],h[j],ge_temp)\n",
    "            #print(h)\n",
    "            #print(ge_temp+k1*H*0.5)\n",
    "            k2 = calc_dydt(A[j],B[j],g[j],h[j],ge_temp+(H*0.5*k1))\n",
    "            k3 = calc_dydt(A[j],B[j],g[j],h[j],ge_temp+(H*0.5*k2))\n",
    "            k4 = calc_dydt(A[j],B[j],g[j],h[j],ge_temp+(k3*H))\n",
    "            next_step = value + ((1/6)*(k1+2*k2+2*k3+k4)*H)\n",
    "            #next_step = value + (k1*H)\n",
    "\n",
    "            #rangeKutta Method call\n",
    "            \n",
    "            \n",
    "            \n",
    "            \n",
    "            \n",
    "            single_exp.append(next_step)\n",
    "            \n",
    "        ge_calc.append(single_exp)\n",
    "        \n",
    "        \n",
    "        \n",
    "    ge_calc = np.array(ge_calc)\n",
    "    ge=[]\n",
    "    for x in range(len(ge_calc)):\n",
    "        if(x%10==0):\n",
    "            ge.append(ge_calc[x])\n",
    "    ge = np.array(ge)\n",
    "    return(ge)"
   ]
  },
  {
   "cell_type": "code",
   "execution_count": 133,
   "metadata": {},
   "outputs": [
    {
     "data": {
      "text/plain": [
       "array([[0.7       , 0.12      , 0.14      , 0.16      , 0.18      ],\n",
       "       [0.75534568, 0.16929286, 0.63146541, 0.23276752, 0.18001024],\n",
       "       [0.88653048, 0.23189715, 0.84269071, 0.45757829, 0.18766958],\n",
       "       [1.01284103, 0.3148902 , 0.92183812, 0.72577232, 0.21803753],\n",
       "       [1.09200186, 0.41359456, 0.95453629, 0.93915616, 0.28148278],\n",
       "       [1.11938905, 0.51580569, 0.97036292, 1.06771326, 0.3726299 ],\n",
       "       [1.11143642, 0.60997031, 0.97919328, 1.12817674, 0.47659793],\n",
       "       [1.08482055, 0.68951195, 0.98468674, 1.14607851, 0.57944312],\n",
       "       [1.05026371, 0.75239688, 0.98838406, 1.14037999, 0.67221231],\n",
       "       [1.01369047, 0.79936194, 0.9910153 , 1.12277809, 0.75065341],\n",
       "       [0.97815424, 0.83246043, 0.99296296, 1.10004546, 0.81377536]])"
      ]
     },
     "execution_count": 133,
     "metadata": {},
     "output_type": "execute_result"
    }
   ],
   "source": [
    "ge_calculated = calc_ge(random_population())\n",
    "ge_calculated"
   ]
  },
  {
   "cell_type": "code",
   "execution_count": 138,
   "metadata": {},
   "outputs": [
    {
     "data": {
      "text/plain": [
       "11"
      ]
     },
     "execution_count": 138,
     "metadata": {},
     "output_type": "execute_result"
    }
   ],
   "source": [
    "#data = ge_calculated.copy()\n",
    "ts = np.array([x/10 for x in range(11)]) #number of time points\n",
    "new = ge_calculated\n",
    "len(ts)"
   ]
  },
  {
   "cell_type": "code",
   "execution_count": null,
   "metadata": {},
   "outputs": [],
   "source": [
    "\n"
   ]
  },
  {
   "cell_type": "code",
   "execution_count": null,
   "metadata": {},
   "outputs": [],
   "source": []
  },
  {
   "cell_type": "code",
   "execution_count": null,
   "metadata": {},
   "outputs": [],
   "source": []
  },
  {
   "cell_type": "code",
   "execution_count": 135,
   "metadata": {},
   "outputs": [
    {
     "data": {
      "text/plain": [
       "10"
      ]
     },
     "execution_count": 135,
     "metadata": {},
     "output_type": "execute_result"
    }
   ],
   "source": [
    "#Initialization of the population\n",
    "\n",
    "def random_population():\n",
    "    learning_parameters = {'A': np.random.randint(low=0, high=20, size=(n,)), \n",
    "                           'B': np.random.randint(low=0, high=20, size=(n,)), \n",
    "                           'g': np.random.randint(low=-3, high=3, size=(n,n)),\n",
    "                           'h': np.random.randint(low=-3, high=3, size=(n,n))}\n",
    "    return learning_parameters\n",
    "\n",
    "len(org)"
   ]
  },
  {
   "cell_type": "code",
   "execution_count": 140,
   "metadata": {},
   "outputs": [
    {
     "data": {
      "image/png": "[encoded data removed]",
      "text/plain": [
       "<Figure size 432x288 with 1 Axes>"
      ]
     },
     "metadata": {
      "needs_background": "light"
     },
     "output_type": "display_data"
    },
    {
     "data": {
      "image/png": "[encoded data removed]",
      "text/plain": [
       "<Figure size 432x288 with 1 Axes>"
      ]
     },
     "metadata": {
      "needs_background": "light"
     },
     "output_type": "display_data"
    },
    {
     "data": {
      "image/png": "[encoded data removed]",
      "text/plain": [
       "<Figure size 432x288 with 1 Axes>"
      ]
     },
     "metadata": {
      "needs_background": "light"
     },
     "output_type": "display_data"
    },
    {
     "data": {
      "image/png": "[encoded data removed]",
      "text/plain": [
       "<Figure size 432x288 with 1 Axes>"
      ]
     },
     "metadata": {
      "needs_background": "light"
     },
     "output_type": "display_data"
    },
    {
     "data": {
      "image/png": "[encoded data removed]",
      "text/plain": [
       "<Figure size 432x288 with 1 Axes>"
      ]
     },
     "metadata": {
      "needs_background": "light"
     },
     "output_type": "display_data"
    }
   ],
   "source": [
    "for i in range(5):\n",
    "    #plt.plot(ts, decoupled_RK[:,i], marker='o', color='black', linestyle='dashed'  )\n",
    "    plt.plot(ts, ge_original[:,i], marker='o', color='red')\n",
    "    \n",
    "    plt.plot(ts, ge_calculated[:,i], marker='o', color='black',linestyle='dashed' )\n",
    "    plt.xlabel('time')\n",
    "    plt.ylabel('Gene expression for Gene'+str(i+1))\n",
    "    plt.legend(('orginal',\"new\"))\n",
    "    plt.show()"
   ]
  },
  {
   "cell_type": "code",
   "execution_count": null,
   "metadata": {},
   "outputs": [],
   "source": []
  },
  {
   "cell_type": "code",
   "execution_count": null,
   "metadata": {},
   "outputs": [],
   "source": []
  },
  {
   "cell_type": "code",
   "execution_count": null,
   "metadata": {},
   "outputs": [],
   "source": []
  },
  {
   "cell_type": "code",
   "execution_count": 91,
   "metadata": {},
   "outputs": [
    {
     "data": {
      "text/plain": [
       "10"
      ]
     },
     "execution_count": 91,
     "metadata": {},
     "output_type": "execute_result"
    }
   ],
   "source": [
    "len(as_it_is_range_kutta)"
   ]
  },
  {
   "cell_type": "code",
   "execution_count": 29,
   "metadata": {},
   "outputs": [],
   "source": [
    "ge_temp[1]=0"
   ]
  },
  {
   "cell_type": "code",
   "execution_count": 30,
   "metadata": {},
   "outputs": [
    {
     "data": {
      "text/plain": [
       "array([0.77413, 0.     , 0.68072, 0.2638 , 0.18058])"
      ]
     },
     "execution_count": 30,
     "metadata": {},
     "output_type": "execute_result"
    }
   ],
   "source": [
    "ge_temp"
   ]
  },
  {
   "cell_type": "code",
   "execution_count": 25,
   "metadata": {},
   "outputs": [],
   "source": [
    "import pandas as pd\n",
    "new_df = pd.read_excel(\"tomiga5gene.xlsx\")"
   ]
  },
  {
   "cell_type": "code",
   "execution_count": 14,
   "metadata": {},
   "outputs": [
    {
     "data": {
      "text/plain": [
       "0.10470153657506627"
      ]
     },
     "execution_count": 14,
     "metadata": {},
     "output_type": "execute_result"
    }
   ],
   "source": [
    "(new_df[\"1\"][0].split(\" \"))"
   ]
  },
  {
   "cell_type": "code",
   "execution_count": 26,
   "metadata": {},
   "outputs": [],
   "source": [
    "List1 = []\n",
    "List2 = []\n",
    "List3 = []\n",
    "List4 = []\n",
    "List5 = []\n",
    "\n",
    "\n",
    "\n",
    "for i in range(len(new_df)):\n",
    "    all_genes = new_df[\"1\"][i].split(\" \")\n",
    "    List1.append(float(all_genes[0]))\n",
    "    List2.append(float(all_genes[1]))\n",
    "    List3.append(float(all_genes[2]))\n",
    "    List4.append(float(all_genes[3]))\n",
    "    List5.append(float(all_genes[4]))\n",
    "    "
   ]
  },
  {
   "cell_type": "code",
   "execution_count": 27,
   "metadata": {},
   "outputs": [],
   "source": [
    "new_df[1]=List1\n",
    "new_df[2]=List2\n",
    "new_df[3]=List3\n",
    "new_df[4]=List4\n",
    "new_df[5]=List5"
   ]
  },
  {
   "cell_type": "code",
   "execution_count": 28,
   "metadata": {},
   "outputs": [],
   "source": [
    "new_df = new_df.drop(\"1\",axis=1)"
   ]
  },
  {
   "cell_type": "code",
   "execution_count": 29,
   "metadata": {},
   "outputs": [
    {
     "data": {
      "text/html": [
       "<div>\n",
       "<style scoped>\n",
       "    .dataframe tbody tr th:only-of-type {\n",
       "        vertical-align: middle;\n",
       "    }\n",
       "\n",
       "    .dataframe tbody tr th {\n",
       "        vertical-align: top;\n",
       "    }\n",
       "\n",
       "    .dataframe thead th {\n",
       "        text-align: right;\n",
       "    }\n",
       "</style>\n",
       "<table border=\"1\" class=\"dataframe\">\n",
       "  <thead>\n",
       "    <tr style=\"text-align: right;\">\n",
       "      <th></th>\n",
       "      <th>1</th>\n",
       "      <th>2</th>\n",
       "      <th>3</th>\n",
       "      <th>4</th>\n",
       "      <th>5</th>\n",
       "    </tr>\n",
       "  </thead>\n",
       "  <tbody>\n",
       "    <tr>\n",
       "      <th>0</th>\n",
       "      <td>0.104702</td>\n",
       "      <td>0.263853</td>\n",
       "      <td>0.150949</td>\n",
       "      <td>0.494833</td>\n",
       "      <td>0.333220</td>\n",
       "    </tr>\n",
       "    <tr>\n",
       "      <th>1</th>\n",
       "      <td>0.408607</td>\n",
       "      <td>0.261597</td>\n",
       "      <td>0.619939</td>\n",
       "      <td>0.455378</td>\n",
       "      <td>0.380959</td>\n",
       "    </tr>\n",
       "    <tr>\n",
       "      <th>2</th>\n",
       "      <td>0.828747</td>\n",
       "      <td>0.412337</td>\n",
       "      <td>0.857983</td>\n",
       "      <td>0.459271</td>\n",
       "      <td>0.404653</td>\n",
       "    </tr>\n",
       "    <tr>\n",
       "      <th>3</th>\n",
       "      <td>1.093030</td>\n",
       "      <td>0.728959</td>\n",
       "      <td>0.948384</td>\n",
       "      <td>0.626243</td>\n",
       "      <td>0.453797</td>\n",
       "    </tr>\n",
       "    <tr>\n",
       "      <th>4</th>\n",
       "      <td>1.198795</td>\n",
       "      <td>1.007998</td>\n",
       "      <td>0.980938</td>\n",
       "      <td>0.913700</td>\n",
       "      <td>0.617423</td>\n",
       "    </tr>\n",
       "    <tr>\n",
       "      <th>5</th>\n",
       "      <td>1.224519</td>\n",
       "      <td>1.151575</td>\n",
       "      <td>0.992880</td>\n",
       "      <td>1.059914</td>\n",
       "      <td>0.847831</td>\n",
       "    </tr>\n",
       "    <tr>\n",
       "      <th>6</th>\n",
       "      <td>1.225400</td>\n",
       "      <td>1.203499</td>\n",
       "      <td>0.997329</td>\n",
       "      <td>1.082354</td>\n",
       "      <td>0.993860</td>\n",
       "    </tr>\n",
       "    <tr>\n",
       "      <th>7</th>\n",
       "      <td>1.222922</td>\n",
       "      <td>1.217840</td>\n",
       "      <td>0.998997</td>\n",
       "      <td>1.073520</td>\n",
       "      <td>1.048428</td>\n",
       "    </tr>\n",
       "    <tr>\n",
       "      <th>8</th>\n",
       "      <td>1.221527</td>\n",
       "      <td>1.220756</td>\n",
       "      <td>0.999623</td>\n",
       "      <td>1.065261</td>\n",
       "      <td>1.061415</td>\n",
       "    </tr>\n",
       "    <tr>\n",
       "      <th>9</th>\n",
       "      <td>1.221096</td>\n",
       "      <td>1.221080</td>\n",
       "      <td>0.999859</td>\n",
       "      <td>1.061555</td>\n",
       "      <td>1.062304</td>\n",
       "    </tr>\n",
       "    <tr>\n",
       "      <th>10</th>\n",
       "      <td>1.221052</td>\n",
       "      <td>1.221062</td>\n",
       "      <td>0.999947</td>\n",
       "      <td>1.060496</td>\n",
       "      <td>1.061321</td>\n",
       "    </tr>\n",
       "    <tr>\n",
       "      <th>11</th>\n",
       "      <td>1.221093</td>\n",
       "      <td>1.221071</td>\n",
       "      <td>0.999980</td>\n",
       "      <td>1.060389</td>\n",
       "      <td>1.060717</td>\n",
       "    </tr>\n",
       "    <tr>\n",
       "      <th>12</th>\n",
       "      <td>1.221127</td>\n",
       "      <td>1.221102</td>\n",
       "      <td>0.999993</td>\n",
       "      <td>1.060475</td>\n",
       "      <td>1.060534</td>\n",
       "    </tr>\n",
       "    <tr>\n",
       "      <th>13</th>\n",
       "      <td>1.221143</td>\n",
       "      <td>1.221127</td>\n",
       "      <td>0.999997</td>\n",
       "      <td>1.060543</td>\n",
       "      <td>1.060524</td>\n",
       "    </tr>\n",
       "    <tr>\n",
       "      <th>14</th>\n",
       "      <td>1.221148</td>\n",
       "      <td>1.221141</td>\n",
       "      <td>0.999999</td>\n",
       "      <td>1.060571</td>\n",
       "      <td>1.060549</td>\n",
       "    </tr>\n",
       "    <tr>\n",
       "      <th>15</th>\n",
       "      <td>1.221149</td>\n",
       "      <td>1.221146</td>\n",
       "      <td>1.000000</td>\n",
       "      <td>1.060578</td>\n",
       "      <td>1.060567</td>\n",
       "    </tr>\n",
       "    <tr>\n",
       "      <th>16</th>\n",
       "      <td>1.221149</td>\n",
       "      <td>1.221148</td>\n",
       "      <td>1.000000</td>\n",
       "      <td>1.060579</td>\n",
       "      <td>1.060575</td>\n",
       "    </tr>\n",
       "    <tr>\n",
       "      <th>17</th>\n",
       "      <td>1.221149</td>\n",
       "      <td>1.221148</td>\n",
       "      <td>1.000000</td>\n",
       "      <td>1.060578</td>\n",
       "      <td>1.060577</td>\n",
       "    </tr>\n",
       "    <tr>\n",
       "      <th>18</th>\n",
       "      <td>1.221149</td>\n",
       "      <td>1.221149</td>\n",
       "      <td>1.000000</td>\n",
       "      <td>1.060578</td>\n",
       "      <td>1.060577</td>\n",
       "    </tr>\n",
       "    <tr>\n",
       "      <th>19</th>\n",
       "      <td>1.221149</td>\n",
       "      <td>1.221149</td>\n",
       "      <td>1.000000</td>\n",
       "      <td>1.060577</td>\n",
       "      <td>1.060577</td>\n",
       "    </tr>\n",
       "  </tbody>\n",
       "</table>\n",
       "</div>"
      ],
      "text/plain": [
       "           1         2         3         4         5\n",
       "0   0.104702  0.263853  0.150949  0.494833  0.333220\n",
       "1   0.408607  0.261597  0.619939  0.455378  0.380959\n",
       "2   0.828747  0.412337  0.857983  0.459271  0.404653\n",
       "3   1.093030  0.728959  0.948384  0.626243  0.453797\n",
       "4   1.198795  1.007998  0.980938  0.913700  0.617423\n",
       "5   1.224519  1.151575  0.992880  1.059914  0.847831\n",
       "6   1.225400  1.203499  0.997329  1.082354  0.993860\n",
       "7   1.222922  1.217840  0.998997  1.073520  1.048428\n",
       "8   1.221527  1.220756  0.999623  1.065261  1.061415\n",
       "9   1.221096  1.221080  0.999859  1.061555  1.062304\n",
       "10  1.221052  1.221062  0.999947  1.060496  1.061321\n",
       "11  1.221093  1.221071  0.999980  1.060389  1.060717\n",
       "12  1.221127  1.221102  0.999993  1.060475  1.060534\n",
       "13  1.221143  1.221127  0.999997  1.060543  1.060524\n",
       "14  1.221148  1.221141  0.999999  1.060571  1.060549\n",
       "15  1.221149  1.221146  1.000000  1.060578  1.060567\n",
       "16  1.221149  1.221148  1.000000  1.060579  1.060575\n",
       "17  1.221149  1.221148  1.000000  1.060578  1.060577\n",
       "18  1.221149  1.221149  1.000000  1.060578  1.060577\n",
       "19  1.221149  1.221149  1.000000  1.060577  1.060577"
      ]
     },
     "execution_count": 29,
     "metadata": {},
     "output_type": "execute_result"
    }
   ],
   "source": [
    "new_df"
   ]
  },
  {
   "cell_type": "code",
   "execution_count": null,
   "metadata": {},
   "outputs": [],
   "source": []
  }
 ],
 "metadata": {
  "kernelspec": {
   "display_name": "Python 3",
   "language": "python",
   "name": "python3"
  },
  "language_info": {
   "codemirror_mode": {
    "name": "ipython",
    "version": 3
   },
   "file_extension": ".py",
   "mimetype": "text/x-python",
   "name": "python",
   "nbconvert_exporter": "python",
   "pygments_lexer": "ipython3",
   "version": "3.8.5"
  }
 },
 "nbformat": 4,
 "nbformat_minor": 4
}
