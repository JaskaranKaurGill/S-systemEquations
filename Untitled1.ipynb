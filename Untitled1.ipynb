{
 "cells": [
  {
   "cell_type": "code",
   "execution_count": 140,
   "metadata": {},
   "outputs": [],
   "source": [
    "import numpy as np\n",
    "from scipy.integrate import odeint\n",
    "import matplotlib.pyplot as plt\n",
    "import random\n",
    "import pandas as pd\n",
    "import time"
   ]
  },
  {
   "cell_type": "code",
   "execution_count": 134,
   "metadata": {},
   "outputs": [],
   "source": [
    "df = pd.read_excel('data.xlsx')\n",
    "ge_original = np.array(df)\n",
    "n = len(ge_original[1])\n",
    "t = len(ge_original)"
   ]
  },
  {
   "cell_type": "code",
   "execution_count": 4,
   "metadata": {},
   "outputs": [],
   "source": [
    "A =np.array([ 5,10,10,8,10])\n",
    "B = np.array([ 10,10,10,10,10])\n",
    "g = np.array([[ 1,2,0,0,0],\n",
    "        [0,-1,1,0,0],\n",
    "        [ -1,0,1,0,0 ],\n",
    "        [0,-1,-1,-1,0],\n",
    "        [-1,0,1,0,1]])\n",
    "h= np.array([[2,0,0,0,0],\n",
    "        [0,2,0,0,0],\n",
    "        [0,0,2,0,0],\n",
    "        [ 0,-1,0,2,1],\n",
    "        [ -1,0,0,1,2]])\n"
   ]
  },
  {
   "cell_type": "markdown",
   "metadata": {},
   "source": [
    "<h1> Differential Evolutionary Algorithm for Gene Regulatory Network of 5 Genes <h1>\n",
    "<img src=\"ssystemequation.png\"><img>"
   ]
  },
  {
   "cell_type": "code",
   "execution_count": 222,
   "metadata": {},
   "outputs": [],
   "source": [
    "def calc_dydt(alpha, beta, g, h, exp ):\n",
    "    \n",
    "    #exp is the gene expression of the previous time step\n",
    "    \n",
    "    \n",
    "    Generation = alpha * (np.prod(pow(exp,g)))\n",
    "    Degeneration = beta* (np.prod(pow(exp,h)))\n",
    "    \n",
    "    return (Generation-Degeneration)\n",
    "    \n",
    "def calc_ge(p):\n",
    "    #p --> learning parameters as a dictionary \n",
    "    \n",
    "    #t -->is the length of time stamp\n",
    "    #n --> number of Genes\n",
    "    #init--> gene expression for time step 1\n",
    "    \n",
    "    original = ge_original.copy()\n",
    "    ge_calc = [original[0]]\n",
    "    H=50\n",
    "\n",
    "    for i in range(t):\n",
    "        \n",
    "        \n",
    "        \n",
    "        single_exp=[]\n",
    "        #original\n",
    "        #print(\"original\")\n",
    "        #print(ge_original[i])\n",
    "        #print(\"after change---------\")\n",
    "        for j in range(n):\n",
    "            \n",
    "            #print(original[i][j])\n",
    "            \n",
    "            ge_temp = original[i].copy()\n",
    "            \n",
    "        \n",
    "            value = ge_calc[i][j].copy()\n",
    "            ge_temp[j]=value\n",
    "            \n",
    "            #print(ge_temp==ge_original[i])\n",
    "            \n",
    "            k1 = calc_dydt(A[j],B[j],g[j],h[j],ge_temp)\n",
    "            #print(h)\n",
    "            #print(ge_temp+k1*H*0.5)\n",
    "            k2 = calc_dydt(A[j],B[j],g[j],h[j],ge_temp+(H*0.5*k1))\n",
    "            k3 = calc_dydt(A[j],B[j],g[j],h[j],ge_temp+(H*0.5*k2))\n",
    "            k4 = calc_dydt(A[j],B[j],g[j],h[j],ge_temp+(k3*H))\n",
    "            next_step = value + ((1/6)*(k1+2*k2+2*k3+k4)*H)\n",
    "            \n",
    "            #rangeKutta Method call\n",
    "            \n",
    "            \n",
    "            \n",
    "            \n",
    "            \n",
    "            single_exp.append(next_step)\n",
    "            \n",
    "        ge_calc.append(single_exp)\n",
    "    \n",
    "    return(ge_calc)\n",
    "     \n",
    "    "
   ]
  },
  {
   "cell_type": "code",
   "execution_count": 223,
   "metadata": {},
   "outputs": [
    {
     "name": "stderr",
     "output_type": "stream",
     "text": [
      "<ipython-input-222-b84ac900b340>:7: RuntimeWarning: overflow encountered in power\n",
      "  Degeneration = beta* (np.prod(pow(exp,h)))\n"
     ]
    },
    {
     "data": {
      "text/plain": [
       "[array([0.0031, 0.0128, 0.0027, 0.0087, 0.0089]),\n",
       " [0.0006852508198506766,\n",
       "  -4.839361447570415e+30,\n",
       "  -4.111807648990675e+35,\n",
       "  -3.118996383481822e+87,\n",
       "  -6.772893287336801e+17],\n",
       " [0.000639887070632733, -inf, -inf, nan, -inf],\n",
       " [0.0005714554315424205, nan, nan, nan, nan],\n",
       " [0.00046925155223301866, nan, nan, nan, nan],\n",
       " [0.0003957190252357543, nan, nan, nan, nan],\n",
       " [0.0003423404856375896, nan, nan, nan, nan],\n",
       " [0.000299979173672629, nan, nan, nan, nan],\n",
       " [0.00026675036846645234, nan, nan, nan, nan],\n",
       " [0.0002406104674664002, nan, nan, nan, nan],\n",
       " [0.0002261718792241553, nan, nan, nan, nan],\n",
       " [0.00020931991075670775, nan, nan, nan, nan],\n",
       " [0.00019451967596790024, nan, nan, nan, nan],\n",
       " [0.0001800034251039802, nan, nan, nan, nan],\n",
       " [0.00016859409677229799, nan, nan, nan, nan],\n",
       " [0.00015737839183173623, nan, nan, nan, nan],\n",
       " [0.00014945086418916101, nan, nan, nan, nan]]"
      ]
     },
     "execution_count": 223,
     "metadata": {},
     "output_type": "execute_result"
    }
   ],
   "source": [
    "calc_ge(random_population())"
   ]
  },
  {
   "cell_type": "code",
   "execution_count": 137,
   "metadata": {},
   "outputs": [
    {
     "name": "stderr",
     "output_type": "stream",
     "text": [
      "<ipython-input-136-862fa9ba0591>:7: RuntimeWarning: overflow encountered in power\n",
      "  Degeneration = beta* (np.prod(pow(exp,h)))\n"
     ]
    },
    {
     "data": {
      "text/plain": [
       "[array([0.0031, 0.0128, 0.0027, 0.0087, 0.0089]),\n",
       " [-0.0015780240000000004,\n",
       "  105.39963,\n",
       "  435.48292596774195,\n",
       "  1330353341.8299804,\n",
       "  3.7735569354838705],\n",
       " [-0.003237240490848001,\n",
       "  -5554435.566859578,\n",
       "  -46435262.14759339,\n",
       "  -3.2774815076129866e+20,\n",
       "  -31818.048551492295],\n",
       " [-0.009089144268941854,\n",
       "  -1.5425877238751776e+16,\n",
       "  -1.0781201502783634e+18,\n",
       "  -2.1093156064299466e+43,\n",
       "  -1760729829988.5977],\n",
       " [-0.050955511832473994,\n",
       "  -1.1897884429252007e+35,\n",
       "  -5.8117152921812044e+38,\n",
       "  -2.210436697753228e+89,\n",
       "  -1.4926742201794285e+27],\n",
       " [-1.3514749978133322,\n",
       "  -7.077982694591868e+72,\n",
       "  -1.688801731868643e+80,\n",
       "  -3.2998936621422745e+181,\n",
       "  -1.282194867763058e+57],\n",
       " [-914.6466018471887,\n",
       "  -2.5048919512470974e+148,\n",
       "  -1.426025644781264e+163,\n",
       "  -inf,\n",
       "  -6.987100635401186e+116],\n",
       " [-418290143.47432977,\n",
       "  -3.1372418437112458e+299,\n",
       "  -inf,\n",
       "  -inf,\n",
       "  -2.7684271353035367e+236],\n",
       " [-8.748332206431602e+19, -inf, -inf, -inf, -inf],\n",
       " [-3.8266658197044213e+42, -inf, -inf, -inf, -inf],\n",
       " [-7.3216856478470555e+87, -inf, -inf, -inf, -inf],\n",
       " [-2.680354036294478e+178, -inf, -inf, -inf, -inf],\n",
       " [-inf, -inf, -inf, -inf, -inf],\n",
       " [-inf, -inf, -inf, -inf, -inf],\n",
       " [-inf, -inf, -inf, -inf, -inf],\n",
       " [-inf, -inf, -inf, -inf, -inf],\n",
       " [-inf, -inf, -inf, -inf, -inf]]"
      ]
     },
     "execution_count": 137,
     "metadata": {},
     "output_type": "execute_result"
    }
   ],
   "source": [
    "a=calc_ge(random_population())\n",
    "a"
   ]
  },
  {
   "cell_type": "code",
   "execution_count": 138,
   "metadata": {},
   "outputs": [
    {
     "data": {
      "text/plain": [
       "array([[0.0031, 0.0128, 0.0027, 0.0087, 0.0089],\n",
       "       [0.0045, 0.0324, 0.0075, 0.0221, 0.012 ],\n",
       "       [0.0069, 0.0275, 0.0237, 0.024 , 0.0108],\n",
       "       [0.0081, 0.0157, 0.0316, 0.0078, 0.0156],\n",
       "       [0.0053, 0.0134, 0.0231, 0.0061, 0.0181],\n",
       "       [0.01  , 0.0125, 0.0298, 0.0085, 0.0243],\n",
       "       [0.0082, 0.0106, 0.0266, 0.0093, 0.0207],\n",
       "       [0.0085, 0.0098, 0.0233, 0.0076, 0.0274],\n",
       "       [0.0153, 0.0097, 0.0276, 0.008 , 0.0262],\n",
       "       [0.0188, 0.0148, 0.0339, 0.0096, 0.033 ],\n",
       "       [0.0339, 0.0112, 0.0366, 0.0119, 0.0256],\n",
       "       [0.0251, 0.0105, 0.0285, 0.0084, 0.0273],\n",
       "       [0.0222, 0.008 , 0.0232, 0.0067, 0.0254],\n",
       "       [0.0194, 0.0093, 0.0228, 0.0059, 0.0222],\n",
       "       [0.02  , 0.0071, 0.021 , 0.0048, 0.0218],\n",
       "       [0.0208, 0.01  , 0.0205, 0.0084, 0.017 ]])"
      ]
     },
     "execution_count": 138,
     "metadata": {},
     "output_type": "execute_result"
    }
   ],
   "source": [
    "ge_original"
   ]
  },
  {
   "cell_type": "code",
   "execution_count": null,
   "metadata": {},
   "outputs": [],
   "source": []
  },
  {
   "cell_type": "code",
   "execution_count": 16,
   "metadata": {},
   "outputs": [
    {
     "data": {
      "text/plain": [
       "array([[0.7    , 0.12   , 0.14   , 0.16   , 0.18   ],\n",
       "       [0.77413, 0.17038, 0.68072, 0.2638 , 0.18058],\n",
       "       [0.91692, 0.23761, 0.86764, 0.52215, 0.19239],\n",
       "       [1.03717, 0.32601, 0.93309, 0.79176, 0.23218],\n",
       "       [1.1009 , 0.42709, 0.96024, 0.98295, 0.30541],\n",
       "       [1.11553, 0.5277 , 0.97369, 1.08819, 0.40153],\n",
       "       [1.10067, 0.61786, 0.98137, 1.13338, 0.50515],\n",
       "       [1.07136, 0.69281, 0.98623, 1.14312, 0.60428],\n",
       "       [1.03644, 0.75156, 0.98954, 1.13372, 0.69192],\n",
       "       [1.00064, 0.79529, 0.99191, 1.1149 , 0.76515],\n",
       "       [0.96636, 0.8261 , 0.99367, 1.09223, 0.82365]])"
      ]
     },
     "execution_count": 16,
     "metadata": {},
     "output_type": "execute_result"
    }
   ],
   "source": [
    "ge_original"
   ]
  },
  {
   "cell_type": "code",
   "execution_count": 7,
   "metadata": {},
   "outputs": [],
   "source": [
    "#Initialization of the population\n",
    "\n",
    "def random_population():\n",
    "    learning_parameters = {'A': np.random.randint(low=0, high=20, size=(n,)), \n",
    "                           'B': np.random.randint(low=0, high=20, size=(n,)), \n",
    "                           'g': np.random.randint(low=-3, high=3, size=(n,n)),\n",
    "                           'h': np.random.randint(low=-3, high=3, size=(n,n))}\n",
    "    return learning_parameters"
   ]
  },
  {
   "cell_type": "code",
   "execution_count": 20,
   "metadata": {},
   "outputs": [
    {
     "data": {
      "text/plain": [
       "{'A': array([1, 4, 5, 6, 8]),\n",
       " 'B': array([16, 12,  9, 10,  5]),\n",
       " 'g': array([[ 2, -2,  1, -2,  2],\n",
       "        [ 1,  2, -3, -1, -3],\n",
       "        [ 1,  2,  0, -1, -1],\n",
       "        [-3, -1,  0,  1, -1],\n",
       "        [-3,  1, -3,  2,  0]]),\n",
       " 'h': array([[ 2,  1,  0, -2,  0],\n",
       "        [ 0,  0, -3, -3, -1],\n",
       "        [-2, -2, -1,  0,  2],\n",
       "        [-1,  1,  2,  1,  0],\n",
       "        [ 0,  1,  1,  1,  1]])}"
      ]
     },
     "execution_count": 20,
     "metadata": {},
     "output_type": "execute_result"
    }
   ],
   "source": [
    "random_population()"
   ]
  },
  {
   "cell_type": "code",
   "execution_count": 168,
   "metadata": {},
   "outputs": [
    {
     "data": {
      "text/plain": [
       "array([[0.0031, 0.0128, 0.0027, 0.0087, 0.0089],\n",
       "       [0.0045, 0.0324, 0.0075, 0.0221, 0.012 ],\n",
       "       [0.0069, 0.0275, 0.0237, 0.024 , 0.0108],\n",
       "       [0.0081, 0.0157, 0.0316, 0.0078, 0.0156],\n",
       "       [0.0053, 0.0134, 0.0231, 0.0061, 0.0181],\n",
       "       [0.01  , 0.0125, 0.0298, 0.0085, 0.0243],\n",
       "       [0.0082, 0.0106, 0.0266, 0.0093, 0.0207],\n",
       "       [0.0085, 0.0098, 0.0233, 0.0076, 0.0274],\n",
       "       [0.0153, 0.0097, 0.0276, 0.008 , 0.0262],\n",
       "       [0.0188, 0.0148, 0.0339, 0.0096, 0.033 ],\n",
       "       [0.0339, 0.0112, 0.0366, 0.0119, 0.0256],\n",
       "       [0.0251, 0.0105, 0.0285, 0.0084, 0.0273],\n",
       "       [0.0222, 0.008 , 0.0232, 0.0067, 0.0254],\n",
       "       [0.0194, 0.0093, 0.0228, 0.0059, 0.0222],\n",
       "       [0.02  , 0.0071, 0.021 , 0.0048, 0.0218],\n",
       "       [0.0208, 0.01  , 0.0205, 0.0084, 0.017 ]])"
      ]
     },
     "execution_count": 168,
     "metadata": {},
     "output_type": "execute_result"
    }
   ],
   "source": [
    "ge_original"
   ]
  },
  {
   "cell_type": "code",
   "execution_count": 170,
   "metadata": {},
   "outputs": [
    {
     "data": {
      "text/plain": [
       "array([1.0031, 1.0128, 1.0027, 1.0087, 1.0089])"
      ]
     },
     "execution_count": 170,
     "metadata": {},
     "output_type": "execute_result"
    }
   ],
   "source": [
    "ge_original[0]+"
   ]
  },
  {
   "cell_type": "code",
   "execution_count": null,
   "metadata": {},
   "outputs": [],
   "source": []
  },
  {
   "cell_type": "code",
   "execution_count": 28,
   "metadata": {},
   "outputs": [
    {
     "data": {
      "text/plain": [
       "array([0.77413, 0.17038, 0.68072, 0.2638 , 0.18058])"
      ]
     },
     "execution_count": 28,
     "metadata": {},
     "output_type": "execute_result"
    }
   ],
   "source": [
    "ge_temp"
   ]
  },
  {
   "cell_type": "code",
   "execution_count": 29,
   "metadata": {},
   "outputs": [],
   "source": [
    "ge_temp[1]=0"
   ]
  },
  {
   "cell_type": "code",
   "execution_count": 30,
   "metadata": {},
   "outputs": [
    {
     "data": {
      "text/plain": [
       "array([0.77413, 0.     , 0.68072, 0.2638 , 0.18058])"
      ]
     },
     "execution_count": 30,
     "metadata": {},
     "output_type": "execute_result"
    }
   ],
   "source": [
    "ge_temp"
   ]
  },
  {
   "cell_type": "code",
   "execution_count": null,
   "metadata": {},
   "outputs": [],
   "source": [
    "k1 = calc_dydt(A[j],B[j],g[j],h[j],ge_temp)\n",
    "            print(k1)\n",
    "            #k2 = calc_dydt(A[j],B[j],g[j],h[j],ge_temp+(halfstep*k1))\n",
    "            #k3 = calc_dydt(A[j],B[j],g[j],h[j],ge_temp+(halfstep*k2))\n",
    "            \n",
    "            #k4 = calc_dydt(A[j],B[j],g[j],h[j],ge_temp+(k3*h))\n",
    "            \n",
    "            #next_step = value + ((1/6)*(k1+2*k2+2*k3+k4)*h)\n",
    "            \n",
    "            #rangeKutta Method call\n",
    "            #single_exp.append(next_step)\n",
    "            \n",
    "        #ge_calc.append(single_exp)"
   ]
  }
 ],
 "metadata": {
  "kernelspec": {
   "display_name": "Python 3",
   "language": "python",
   "name": "python3"
  },
  "language_info": {
   "codemirror_mode": {
    "name": "ipython",
    "version": 3
   },
   "file_extension": ".py",
   "mimetype": "text/x-python",
   "name": "python",
   "nbconvert_exporter": "python",
   "pygments_lexer": "ipython3",
   "version": "3.8.5"
  }
 },
 "nbformat": 4,
 "nbformat_minor": 4
}
