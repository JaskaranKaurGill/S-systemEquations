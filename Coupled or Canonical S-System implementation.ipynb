{
 "cells": [
  {
   "cell_type": "code",
   "execution_count": null,
   "metadata": {},
   "outputs": [],
   "source": []
  },
  {
   "cell_type": "code",
   "execution_count": 1,
   "metadata": {},
   "outputs": [],
   "source": [
    "import numpy as np\n",
    "from scipy.integrate import odeint\n",
    "import matplotlib.pyplot as plt\n",
    "import random\n",
    "import pandas as pd\n",
    "import time"
   ]
  },
  {
   "cell_type": "code",
   "execution_count": 54,
   "metadata": {},
   "outputs": [
    {
     "data": {
      "text/plain": [
       "array([[0.7    , 0.12   , 0.14   , 0.16   , 0.18   ],\n",
       "       [0.77413, 0.17038, 0.68072, 0.2638 , 0.18058],\n",
       "       [0.91692, 0.23761, 0.86764, 0.52215, 0.19239],\n",
       "       [1.03717, 0.32601, 0.93309, 0.79176, 0.23218],\n",
       "       [1.1009 , 0.42709, 0.96024, 0.98295, 0.30541],\n",
       "       [1.11553, 0.5277 , 0.97369, 1.08819, 0.40153],\n",
       "       [1.10067, 0.61786, 0.98137, 1.13338, 0.50515],\n",
       "       [1.07136, 0.69281, 0.98623, 1.14312, 0.60428],\n",
       "       [1.03644, 0.75156, 0.98954, 1.13372, 0.69192],\n",
       "       [1.00064, 0.79529, 0.99191, 1.1149 , 0.76515],\n",
       "       [0.96636, 0.8261 , 0.99367, 1.09223, 0.82365]])"
      ]
     },
     "execution_count": 54,
     "metadata": {},
     "output_type": "execute_result"
    }
   ],
   "source": [
    "df = pd.read_excel('5gene.xlsx')\n",
    "ge_original = np.array(df)\n",
    "n = len(ge_original[1])\n",
    "t = len(ge_original)\n",
    "CR = 0.5\n",
    "F = 0.2\n",
    "ge_original"
   ]
  },
  {
   "cell_type": "code",
   "execution_count": 3,
   "metadata": {},
   "outputs": [],
   "source": [
    "A =np.array([ 5,10,10,8,10])\n",
    "B = np.array([ 10,10,10,10,10])\n",
    "g = np.array([[ 0,0,1,0,-1],\n",
    "        [2,0,0,0,0],\n",
    "        [ 0,-1,0,0,0 ],\n",
    "        [0,0,2,0,-1],\n",
    "        [0,0,0,2,0]])\n",
    "h= np.array([[2,0,0,0,0],\n",
    "        [0,2,0,0,0],\n",
    "        [0,-1,2,0,0],\n",
    "        [ 0,0,0,2,0],\n",
    "        [ 0,0,0,0,2]])"
   ]
  },
  {
   "cell_type": "code",
   "execution_count": 104,
   "metadata": {},
   "outputs": [],
   "source": [
    "def calc_dydt(alpha, beta, g, h, exp ):\n",
    "    \n",
    "    #exp is the gene expression of the previous time step\n",
    "    \n",
    "    \n",
    "    #print(alpha,'*',exp[0]**g[0],'*',exp[1]**g[1],'*',exp[2]**g[2],'*',exp[3]**g[3],'*',exp[4],\"^\",g[4])\n",
    "    #print(exp[4],\"^\",g[4],\"=\",exp[4]**g[4])\n",
    "    \n",
    "    Generation = alpha * (np.prod(pow(exp,g)))\n",
    "    Degeneration = beta* (np.prod(pow(exp,h)))\n",
    "    return (Generation-Degeneration)\n",
    "    \n",
    "def calc_ge(p):\n",
    "    #p --> learning parameters as a dictionary \n",
    "    \n",
    "    #t -->is the length of time stamp\n",
    "    #n --> number of Genes\n",
    "    #init--> gene expression for time step 1\n",
    "    \n",
    "    original = ge_original.copy()\n",
    "    ge_calc = [original[0]]\n",
    "    H=0.01\n",
    "    \n",
    "    \n",
    "    for i in range(t):\n",
    "\n",
    "        \n",
    "        single_exp=[]\n",
    "        \n",
    "        \n",
    "        for j in range(n):\n",
    "            \n",
    "            \n",
    "            #print(original[i][j])\n",
    "            \n",
    "            ge_temp = ge_calc[i].copy()\n",
    "            \n",
    "            #ge_temp = ge_original[i].copy()\n",
    "            \n",
    "            #print(\"for Gene \", j)\n",
    "            value = ge_calc[i][j].copy()\n",
    "            #ge_temp[j]=value\n",
    "            \n",
    "            #print(ge_temp==ge_original[i])\n",
    "            \n",
    "            k1 = calc_dydt(p[\"A\"][j],p[\"B\"][j],p[\"g\"][j],p[\"h\"][j],ge_temp)\n",
    "            #print(h)\n",
    "            #print(ge_temp+k1*H*0.5)\n",
    "            k2 = calc_dydt(p[\"A\"][j],p[\"B\"][j],p[\"g\"][j],p[\"h\"][j],ge_temp+(H*0.5*k1))\n",
    "            k3 = calc_dydt(p[\"A\"][j],p[\"B\"][j],p[\"g\"][j],p[\"h\"][j],ge_temp+(H*0.5*k2))\n",
    "            k4 = calc_dydt(p[\"A\"][j],p[\"B\"][j],p[\"g\"][j],p[\"h\"][j],ge_temp+(k3*H))\n",
    "            \n",
    "            next_step = value + ((1/6)*(k1+2*k2+2*k3+k4)*H)\n",
    "            #next_step = value + (k1*H)\n",
    "\n",
    "           \n",
    "            \n",
    "            \n",
    "            \n",
    "            \n",
    "            \n",
    "            single_exp.append(next_step)\n",
    "            \n",
    "        ge_calc.append(single_exp)\n",
    "    \n",
    "    return(np.array(ge_calc))\n",
    "     \n"
   ]
  },
  {
   "cell_type": "code",
   "execution_count": 35,
   "metadata": {},
   "outputs": [
    {
     "data": {
      "text/plain": [
       "array([[0.7       , 0.12      , 0.14      , 0.16      , 0.18      ],\n",
       "       [0.69026002, 0.17042823, 0.50674731, 0.16628756, 0.17932136],\n",
       "       [0.76266485, 0.21757804, 0.73069973, 0.26993861, 0.17887149],\n",
       "       [0.86466845, 0.274031  , 0.85732003, 0.45811085, 0.18299612],\n",
       "       [0.97060502, 0.34542027, 0.92252086, 0.68295704, 0.20112818],\n",
       "       [1.0608906 , 0.43306102, 0.9545811 , 0.89692393, 0.24584596],\n",
       "       [1.11910986, 0.53299864, 0.97087042, 1.062269  , 0.32531053],\n",
       "       [1.13781598, 0.63573426, 0.97982501, 1.16032864, 0.43548932],\n",
       "       [1.12366113, 0.72940526, 0.98520944, 1.1968484 , 0.55996462],\n",
       "       [1.09047497, 0.80542105, 0.98872859, 1.19271436, 0.67929139]])"
      ]
     },
     "execution_count": 35,
     "metadata": {},
     "output_type": "execute_result"
    }
   ],
   "source": [
    "ge_calculated = calc_ge(random_population())\n",
    "ge_calculated"
   ]
  },
  {
   "cell_type": "code",
   "execution_count": 40,
   "metadata": {},
   "outputs": [],
   "source": [
    "#Initialization of the population\n",
    "\n",
    "def random_population():\n",
    "    learning_parameters = {'A': np.random.randint(low=0, high=20, size=(n,)), \n",
    "                           'B': np.random.randint(low=0, high=20, size=(n,)), \n",
    "                           'g': np.random.randint(low=-3, high=3, size=(n,n)),\n",
    "                           'h': np.random.randint(low=-3, high=3, size=(n,n))}\n",
    "    \n",
    "    for i in range(n):\n",
    "        zero_parameters = GetRandomLocations()\n",
    "        for j in zero_parameters:\n",
    "            learning_parameters['g'][i][j]=0\n",
    "        zero_parameters = GetRandomLocations()\n",
    "        for k in zero_parameters:\n",
    "            learning_parameters['h'][i][k]=0\n",
    "            \n",
    "            \n",
    "    return learning_parameters\n",
    "\n",
    "\n",
    "def GetRandomLocations():\n",
    "    values = []\n",
    "    while(len(values)<3):\n",
    "        value = np.random.randint(low=0, high=5)\n",
    "        if(value not in values):\n",
    "            values.append(value)\n",
    "    return(values)"
   ]
  },
  {
   "cell_type": "code",
   "execution_count": 89,
   "metadata": {},
   "outputs": [],
   "source": [
    "def rand(l,h,shape):\n",
    "    return(np.random.uniform(low=l, high=h, size=shape))\n",
    "#mutation function \n",
    "def mutation(l,h,i):\n",
    "    \n",
    "    r1 = rand(l,h,i.shape)\n",
    "    r2 = rand(l,h,i.shape)\n",
    "    r3 = rand(l,h,i.shape)\n",
    "    return(r1+F*(r2-r3))"
   ]
  },
  {
   "cell_type": "code",
   "execution_count": 37,
   "metadata": {},
   "outputs": [],
   "source": [
    "def checkBounds(parameters, low, high ):\n",
    "    while((parameters<low).any() or (parameters>high).any()):\n",
    "        InBounds=[]\n",
    "        for x in np.nditer(parameters):\n",
    "            if(x<low):\n",
    "                InBounds.append(2*low-x)\n",
    "            elif(x>high):\n",
    "                InBounds.append(2*high-x)\n",
    "            else:\n",
    "                InBounds.append(x)\n",
    "        parameters = np.array(InBounds).reshape(parameters.shape)\n",
    "        #print(parameters)\n",
    "    \n",
    "    return(parameters)"
   ]
  },
  {
   "cell_type": "code",
   "execution_count": 38,
   "metadata": {},
   "outputs": [],
   "source": [
    "\n",
    "def crossover(g_mutant,g_target):\n",
    "    \n",
    "    temp = np.empty(g_target.shape)\n",
    "    j_rand = np.random.randint(0,len(g_target))\n",
    "    j = rand(0,1,g_target.shape)\n",
    "    i = 0\n",
    "    for x,y,z,t in zip(np.nditer(j),np.nditer(g_mutant),np.nditer(g_target),np.nditer(temp)):\n",
    "        if(x<=CR or x==j_rand):\n",
    "            t =y\n",
    "        elif(x>CR and x!=j_rand):\n",
    "            t =z\n",
    "    #print(\"===================g_mutant===b=========\",temp)\n",
    "    return(g_mutant)       \n",
    "            "
   ]
  },
  {
   "cell_type": "code",
   "execution_count": 85,
   "metadata": {},
   "outputs": [],
   "source": [
    "#selecting the best generation\n",
    "\n",
    "def selection(fitness_new, fitness_old,g_new,g_old):\n",
    "    #we assume that old generation is the best\n",
    "    g_temp=g_old.copy()\n",
    "    if(fitness_old<fitness_new):\n",
    "        g_temp = g_old.copy()    \n",
    "    elif(fitness_old>=fitness_new):\n",
    "        g_temp=g_new.copy()\n",
    "    \n",
    "    if(np.isnan(fitness_old) and np.isnan(fitness_old)):\n",
    "        g_temp=g_new.copy()\n",
    "        \n",
    "        \n",
    "    ##print(g_temp)\n",
    "\n",
    "    return(g_temp)"
   ]
  },
  {
   "cell_type": "code",
   "execution_count": 62,
   "metadata": {},
   "outputs": [],
   "source": [
    "def fitness(CG,RG):\n",
    "    fit = ((CG-RG)/RG)**2\n",
    "    return(np.sum((np.sum(fit, axis=0))))"
   ]
  },
  {
   "cell_type": "code",
   "execution_count": 52,
   "metadata": {},
   "outputs": [],
   "source": [
    "def next_generation(g):\n",
    "    #calling mutation\n",
    "    g_mutant = dict()\n",
    "    g_mutant['A']=mutation(0,20,g['A']).copy()\n",
    "    g_mutant['B']=mutation(0,20,g['B']).copy()\n",
    "    g_mutant['g']=mutation(-3,3,g['g']).copy()\n",
    "    g_mutant['h']=mutation(-3,3,g['h']).copy()\n",
    "    \n",
    "    for i in range(n):\n",
    "        zero_parameters = GetRandomLocations()\n",
    "        for j in zero_parameters:\n",
    "            g_mutant['g'][i][j]=0\n",
    "        zero_parameters = GetRandomLocations()\n",
    "        for k in zero_parameters:\n",
    "            g_mutant['h'][i][k]=0\n",
    "\n",
    "    #calling crossover\n",
    "    g_trial = dict()\n",
    "    g_trial['A'] = crossover(g_mutant['A'],g['A']).copy()\n",
    "    g_trial['B'] = crossover(g_mutant['B'],g['B']).copy()\n",
    "    g_trial['g'] = crossover(g_mutant['g'],g['g']).copy()\n",
    "    g_trial['h'] = crossover(g_mutant['h'],g['h']).copy()\n",
    "    \n",
    "    g_trial['A'] = checkBounds(g_trial['A'], 0, 20).copy()\n",
    "    g_trial['B'] = checkBounds(g_trial['B'], 0, 20).copy()\n",
    "    g_trial['g'] = checkBounds(g_trial['g'], -3, 3).copy()\n",
    "    g_trial['h'] = checkBounds(g_trial['h'], -3, 3).copy()\n",
    "    \n",
    "    \n",
    "        \n",
    "    return(g_trial)"
   ]
  },
  {
   "cell_type": "code",
   "execution_count": 55,
   "metadata": {},
   "outputs": [],
   "source": [
    "def save_values(l):\n",
    "    all_values.append(l)\n",
    "    \n",
    "\n",
    "def get_full_set(x):\n",
    "    \n",
    "    #get the gene expressions\n",
    "    exp = calc_ge(x)\n",
    "    #get fitness function \n",
    "    fit = fitness(exp,ge_original)\n",
    "    \n",
    "    #return function, fitness and gene expression\n",
    "    return([x,exp,fit])"
   ]
  },
  {
   "cell_type": "code",
   "execution_count": 90,
   "metadata": {},
   "outputs": [
    {
     "name": "stderr",
     "output_type": "stream",
     "text": [
      "<ipython-input-51-3db4d534c8e2>:10: RuntimeWarning: overflow encountered in power\n",
      "  Degeneration = beta* (np.prod(pow(exp,h)))\n",
      "<ipython-input-51-3db4d534c8e2>:49: RuntimeWarning: invalid value encountered in add\n",
      "  k2 = calc_dydt(p[\"A\"][j],p[\"B\"][j],p[\"g\"][j],p[\"h\"][j],ge_temp+(H*0.5*k1))\n",
      "<ipython-input-51-3db4d534c8e2>:9: RuntimeWarning: invalid value encountered in power\n",
      "  Generation = alpha * (np.prod(pow(exp,g)))\n",
      "<ipython-input-51-3db4d534c8e2>:10: RuntimeWarning: invalid value encountered in power\n",
      "  Degeneration = beta* (np.prod(pow(exp,h)))\n"
     ]
    },
    {
     "name": "stdout",
     "output_type": "stream",
     "text": [
      "Generation No: 3\n",
      "Fitness: nan\n",
      "Generation No: 4\n",
      "Fitness: nan\n",
      "Generation No: 5\n",
      "Fitness: nan\n",
      "Generation No: 6\n",
      "Fitness: nan\n",
      "Generation No: 7\n",
      "Fitness: nan\n",
      "Generation No: 8\n",
      "Fitness: nan\n",
      "Generation No: 9\n",
      "Fitness: nan\n",
      "Generation No: 10\n",
      "Fitness: nan\n",
      "Generation No: 11\n",
      "Fitness: nan\n",
      "Generation No: 12\n",
      "Fitness: nan\n",
      "Generation No: 13\n",
      "Fitness: nan\n",
      "Generation No: 14\n",
      "Fitness: nan\n",
      "Generation No: 15\n",
      "Fitness: nan\n",
      "Generation No: 16\n",
      "Fitness: nan\n",
      "Generation No: 17\n",
      "Fitness: nan\n",
      "Generation No: 18\n",
      "Fitness: nan\n",
      "Generation No: 19\n",
      "Fitness: nan\n",
      "Generation No: 20\n",
      "Fitness: nan\n",
      "Generation No: 21\n",
      "Fitness: nan\n",
      "Generation No: 22\n",
      "Fitness: nan\n",
      "Generation No: 23\n",
      "Fitness: nan\n",
      "Generation No: 24\n",
      "Fitness: nan\n",
      "Generation No: 25\n",
      "Fitness: nan\n",
      "Generation No: 26\n",
      "Fitness: nan\n",
      "Generation No: 27\n",
      "Fitness: nan\n",
      "Generation No: 28\n",
      "Fitness: nan\n",
      "Generation No: 29\n",
      "Fitness: nan\n",
      "Generation No: 30\n",
      "Fitness: nan\n",
      "Generation No: 31\n",
      "Fitness: nan\n",
      "Generation No: 32\n",
      "Fitness: nan\n",
      "Generation No: 33\n",
      "Fitness: nan\n",
      "Generation No: 34\n",
      "Fitness: nan\n",
      "Generation No: 35\n",
      "Fitness: nan\n",
      "Generation No: 36\n",
      "Fitness: nan\n",
      "Generation No: 37\n",
      "Fitness: nan\n",
      "Generation No: 38\n",
      "Fitness: nan\n",
      "Generation No: 39\n",
      "Fitness: nan\n",
      "Generation No: 40\n",
      "Fitness: nan\n",
      "Generation No: 41\n",
      "Fitness: nan\n",
      "Generation No: 42\n",
      "Fitness: nan\n",
      "Generation No: 43\n",
      "Fitness: nan\n",
      "Generation No: 44\n",
      "Fitness: nan\n",
      "Generation No: 45\n",
      "Fitness: nan\n",
      "Generation No: 46\n",
      "Fitness: nan\n",
      "Generation No: 47\n",
      "Fitness: nan\n",
      "Generation No: 48\n",
      "Fitness: nan\n",
      "Generation No: 49\n",
      "Fitness: nan\n",
      "Generation No: 50\n",
      "Fitness: nan\n",
      "Generation No: 51\n",
      "Fitness: nan\n",
      "Generation No: 52\n",
      "Fitness: nan\n",
      "Generation No: 53\n",
      "Fitness: nan\n",
      "Generation No: 54\n",
      "Fitness: nan\n",
      "Generation No: 55\n",
      "Fitness: nan\n",
      "Generation No: 56\n",
      "Fitness: nan\n",
      "Generation No: 57\n",
      "Fitness: nan\n",
      "Generation No: 58\n",
      "Fitness: nan\n",
      "Generation No: 59\n",
      "Fitness: nan\n",
      "Generation No: 60\n",
      "Fitness: nan\n",
      "Generation No: 61\n",
      "Fitness: nan\n",
      "Generation No: 62\n",
      "Fitness: nan\n",
      "Generation No: 63\n",
      "Fitness: nan\n",
      "Generation No: 64\n",
      "Fitness: nan\n",
      "Generation No: 65\n",
      "Fitness: nan\n",
      "Generation No: 66\n",
      "Fitness: nan\n",
      "Generation No: 67\n",
      "Fitness: nan\n",
      "Generation No: 68\n",
      "Fitness: nan\n",
      "Generation No: 69\n",
      "Fitness: nan\n",
      "Generation No: 70\n",
      "Fitness: nan\n",
      "Generation No: 71\n",
      "Fitness: nan\n",
      "Generation No: 72\n",
      "Fitness: nan\n",
      "Generation No: 73\n",
      "Fitness: nan\n",
      "Generation No: 74\n",
      "Fitness: nan\n",
      "Generation No: 75\n",
      "Fitness: nan\n",
      "Generation No: 76\n",
      "Fitness: nan\n",
      "Generation No: 77\n",
      "Fitness: nan\n",
      "Generation No: 78\n",
      "Fitness: nan\n",
      "Generation No: 79\n",
      "Fitness: nan\n",
      "Generation No: 80\n",
      "Fitness: nan\n",
      "Generation No: 81\n",
      "Fitness: nan\n",
      "Generation No: 82\n",
      "Fitness: nan\n",
      "Generation No: 83\n",
      "Fitness: nan\n",
      "Generation No: 84\n",
      "Fitness: nan\n",
      "Generation No: 85\n",
      "Fitness: nan\n",
      "Generation No:"
     ]
    },
    {
     "name": "stderr",
     "output_type": "stream",
     "text": [
      "<ipython-input-62-3bb1e0da9c6f>:2: RuntimeWarning: overflow encountered in square\n",
      "  fit = ((CG-RG)/RG)**2\n"
     ]
    },
    {
     "name": "stdout",
     "output_type": "stream",
     "text": [
      " 86\n",
      "Fitness: nan\n",
      "Generation No: 87\n",
      "Fitness: nan\n",
      "Generation No: 88\n",
      "Fitness: nan\n",
      "Generation No: 89\n",
      "Fitness: nan\n",
      "Generation No: 90\n",
      "Fitness: nan\n",
      "Generation No: 91\n",
      "Fitness: nan\n",
      "Generation No: 92\n",
      "Fitness: nan\n",
      "Generation No: 93\n",
      "Fitness: nan\n",
      "Generation No: 94\n",
      "Fitness: nan\n",
      "Generation No: 95\n",
      "Fitness: nan\n",
      "Generation No: 96\n",
      "Fitness: nan\n",
      "Generation No: 97\n",
      "Fitness: nan\n",
      "Generation No: 98\n",
      "Fitness: nan\n",
      "Generation No: 99\n",
      "Fitness: nan\n",
      "Generation No: 100\n",
      "Fitness: nan\n",
      "Generation No: 101\n",
      "Fitness: nan\n",
      "Generation No: 102\n",
      "Fitness: nan\n",
      "Generation No: 103\n",
      "Fitness: nan\n",
      "Generation No: 104\n",
      "Fitness: nan\n",
      "Generation No: 105\n",
      "Fitness: nan\n",
      "Generation No: 106\n",
      "Fitness: nan\n",
      "Generation No: 107\n",
      "Fitness: nan\n",
      "Generation No: 108\n",
      "Fitness: nan\n",
      "Generation No: 109\n",
      "Fitness: nan\n",
      "Generation No: 110\n",
      "Fitness: nan\n",
      "Generation No: 111\n",
      "Fitness: nan\n",
      "Generation No: 112\n",
      "Fitness: nan\n",
      "Generation No: 113\n",
      "Fitness: nan\n",
      "Generation No: 114\n",
      "Fitness: nan\n",
      "Generation No: 115\n",
      "Fitness: nan\n",
      "Generation No: 116\n",
      "Fitness: nan\n",
      "Generation No: 117\n",
      "Fitness: nan\n",
      "Generation No: 118\n",
      "Fitness: nan\n",
      "Generation No: 119\n",
      "Fitness: nan\n",
      "Generation No: 120\n",
      "Fitness: nan\n",
      "Generation No: 121\n",
      "Fitness: nan\n",
      "Generation No: 122\n",
      "Fitness: nan\n",
      "Generation No: 123\n",
      "Fitness: nan\n",
      "Generation No: 124\n",
      "Fitness: nan\n",
      "Generation No: 125\n",
      "Fitness: nan\n",
      "Generation No: 126\n",
      "Fitness: nan\n",
      "Generation No: 127\n",
      "Fitness: nan\n",
      "Generation No: 128\n",
      "Fitness: nan\n",
      "Generation No: 129\n",
      "Fitness: nan\n",
      "Generation No: 130\n",
      "Fitness: nan\n",
      "Generation No: 131\n",
      "Fitness: nan\n",
      "Generation No: 132\n",
      "Fitness: nan\n",
      "Generation No: 133\n",
      "Fitness: nan\n",
      "Generation No: 134\n",
      "Fitness: nan\n",
      "Generation No: 135\n",
      "Fitness: nan\n",
      "Generation No: 136\n",
      "Fitness: 27.748177746660478\n",
      "Generation No: 635\n",
      "Fitness: 24.814075434130764\n"
     ]
    },
    {
     "name": "stderr",
     "output_type": "stream",
     "text": [
      "<ipython-input-51-3db4d534c8e2>:9: RuntimeWarning: overflow encountered in power\n",
      "  Generation = alpha * (np.prod(pow(exp,g)))\n",
      "<ipython-input-51-3db4d534c8e2>:11: RuntimeWarning: invalid value encountered in double_scalars\n",
      "  return (Generation-Degeneration)\n"
     ]
    },
    {
     "name": "stdout",
     "output_type": "stream",
     "text": [
      "Generation No: 2062\n",
      "Fitness: 13.040374220798975\n",
      "Generation No: 2273\n",
      "Fitness: 12.412424901374997\n",
      "Generation No: 7108\n",
      "Fitness: 4.737859636992785\n"
     ]
    },
    {
     "name": "stderr",
     "output_type": "stream",
     "text": [
      "<ipython-input-51-3db4d534c8e2>:10: RuntimeWarning: overflow encountered in double_scalars\n",
      "  Degeneration = beta* (np.prod(pow(exp,h)))\n"
     ]
    },
    {
     "name": "stdout",
     "output_type": "stream",
     "text": [
      "Generation No: 75169\n",
      "Fitness: 4.427997394193016\n"
     ]
    },
    {
     "name": "stderr",
     "output_type": "stream",
     "text": [
      "<ipython-input-51-3db4d534c8e2>:9: RuntimeWarning: overflow encountered in double_scalars\n",
      "  Generation = alpha * (np.prod(pow(exp,g)))\n"
     ]
    },
    {
     "name": "stdout",
     "output_type": "stream",
     "text": [
      "Generation No: 240142\n",
      "Fitness: 2.3434500060695864\n"
     ]
    },
    {
     "name": "stderr",
     "output_type": "stream",
     "text": [
      "<ipython-input-51-3db4d534c8e2>:50: RuntimeWarning: invalid value encountered in add\n",
      "  k3 = calc_dydt(p[\"A\"][j],p[\"B\"][j],p[\"g\"][j],p[\"h\"][j],ge_temp+(H*0.5*k2))\n",
      "<ipython-input-51-3db4d534c8e2>:51: RuntimeWarning: invalid value encountered in add\n",
      "  k4 = calc_dydt(p[\"A\"][j],p[\"B\"][j],p[\"g\"][j],p[\"h\"][j],ge_temp+(k3*H))\n",
      "<ipython-input-51-3db4d534c8e2>:53: RuntimeWarning: overflow encountered in double_scalars\n",
      "  next_step = value + ((1/6)*(k1+2*k2+2*k3+k4)*H)\n"
     ]
    },
    {
     "ename": "KeyboardInterrupt",
     "evalue": "",
     "output_type": "error",
     "traceback": [
      "\u001b[1;31m---------------------------------------------------------------------------\u001b[0m",
      "\u001b[1;31mKeyboardInterrupt\u001b[0m                         Traceback (most recent call last)",
      "\u001b[1;32m<ipython-input-90-5432538bb848>\u001b[0m in \u001b[0;36m<module>\u001b[1;34m\u001b[0m\n\u001b[0;32m     12\u001b[0m \u001b[1;33m\u001b[0m\u001b[0m\n\u001b[0;32m     13\u001b[0m     \u001b[1;31m#Saving expression and fitness for respective generation\u001b[0m\u001b[1;33m\u001b[0m\u001b[1;33m\u001b[0m\u001b[1;33m\u001b[0m\u001b[0m\n\u001b[1;32m---> 14\u001b[1;33m     \u001b[0msave_values\u001b[0m\u001b[1;33m(\u001b[0m\u001b[0mget_full_set\u001b[0m\u001b[1;33m(\u001b[0m\u001b[0mg\u001b[0m\u001b[1;33m)\u001b[0m\u001b[1;33m)\u001b[0m\u001b[1;33m\u001b[0m\u001b[1;33m\u001b[0m\u001b[0m\n\u001b[0m\u001b[0;32m     15\u001b[0m \u001b[1;33m\u001b[0m\u001b[0m\n\u001b[0;32m     16\u001b[0m     \u001b[1;31m#getting the next generation\u001b[0m\u001b[1;33m\u001b[0m\u001b[1;33m\u001b[0m\u001b[1;33m\u001b[0m\u001b[0m\n",
      "\u001b[1;32m<ipython-input-55-4a63955705e0>\u001b[0m in \u001b[0;36mget_full_set\u001b[1;34m(x)\u001b[0m\n\u001b[0;32m      6\u001b[0m \u001b[1;33m\u001b[0m\u001b[0m\n\u001b[0;32m      7\u001b[0m     \u001b[1;31m#get the gene expressions\u001b[0m\u001b[1;33m\u001b[0m\u001b[1;33m\u001b[0m\u001b[1;33m\u001b[0m\u001b[0m\n\u001b[1;32m----> 8\u001b[1;33m     \u001b[0mexp\u001b[0m \u001b[1;33m=\u001b[0m \u001b[0mcalc_ge\u001b[0m\u001b[1;33m(\u001b[0m\u001b[0mx\u001b[0m\u001b[1;33m)\u001b[0m\u001b[1;33m\u001b[0m\u001b[1;33m\u001b[0m\u001b[0m\n\u001b[0m\u001b[0;32m      9\u001b[0m     \u001b[1;31m#get fitness function\u001b[0m\u001b[1;33m\u001b[0m\u001b[1;33m\u001b[0m\u001b[1;33m\u001b[0m\u001b[0m\n\u001b[0;32m     10\u001b[0m     \u001b[0mfit\u001b[0m \u001b[1;33m=\u001b[0m \u001b[0mfitness\u001b[0m\u001b[1;33m(\u001b[0m\u001b[0mexp\u001b[0m\u001b[1;33m,\u001b[0m\u001b[0mge_original\u001b[0m\u001b[1;33m)\u001b[0m\u001b[1;33m\u001b[0m\u001b[1;33m\u001b[0m\u001b[0m\n",
      "\u001b[1;32m<ipython-input-51-3db4d534c8e2>\u001b[0m in \u001b[0;36mcalc_ge\u001b[1;34m(p)\u001b[0m\n\u001b[0;32m     47\u001b[0m             \u001b[1;31m#print(h)\u001b[0m\u001b[1;33m\u001b[0m\u001b[1;33m\u001b[0m\u001b[1;33m\u001b[0m\u001b[0m\n\u001b[0;32m     48\u001b[0m             \u001b[1;31m#print(ge_temp+k1*H*0.5)\u001b[0m\u001b[1;33m\u001b[0m\u001b[1;33m\u001b[0m\u001b[1;33m\u001b[0m\u001b[0m\n\u001b[1;32m---> 49\u001b[1;33m             \u001b[0mk2\u001b[0m \u001b[1;33m=\u001b[0m \u001b[0mcalc_dydt\u001b[0m\u001b[1;33m(\u001b[0m\u001b[0mp\u001b[0m\u001b[1;33m[\u001b[0m\u001b[1;34m\"A\"\u001b[0m\u001b[1;33m]\u001b[0m\u001b[1;33m[\u001b[0m\u001b[0mj\u001b[0m\u001b[1;33m]\u001b[0m\u001b[1;33m,\u001b[0m\u001b[0mp\u001b[0m\u001b[1;33m[\u001b[0m\u001b[1;34m\"B\"\u001b[0m\u001b[1;33m]\u001b[0m\u001b[1;33m[\u001b[0m\u001b[0mj\u001b[0m\u001b[1;33m]\u001b[0m\u001b[1;33m,\u001b[0m\u001b[0mp\u001b[0m\u001b[1;33m[\u001b[0m\u001b[1;34m\"g\"\u001b[0m\u001b[1;33m]\u001b[0m\u001b[1;33m[\u001b[0m\u001b[0mj\u001b[0m\u001b[1;33m]\u001b[0m\u001b[1;33m,\u001b[0m\u001b[0mp\u001b[0m\u001b[1;33m[\u001b[0m\u001b[1;34m\"h\"\u001b[0m\u001b[1;33m]\u001b[0m\u001b[1;33m[\u001b[0m\u001b[0mj\u001b[0m\u001b[1;33m]\u001b[0m\u001b[1;33m,\u001b[0m\u001b[0mge_temp\u001b[0m\u001b[1;33m+\u001b[0m\u001b[1;33m(\u001b[0m\u001b[0mH\u001b[0m\u001b[1;33m*\u001b[0m\u001b[1;36m0.5\u001b[0m\u001b[1;33m*\u001b[0m\u001b[0mk1\u001b[0m\u001b[1;33m)\u001b[0m\u001b[1;33m)\u001b[0m\u001b[1;33m\u001b[0m\u001b[1;33m\u001b[0m\u001b[0m\n\u001b[0m\u001b[0;32m     50\u001b[0m             \u001b[0mk3\u001b[0m \u001b[1;33m=\u001b[0m \u001b[0mcalc_dydt\u001b[0m\u001b[1;33m(\u001b[0m\u001b[0mp\u001b[0m\u001b[1;33m[\u001b[0m\u001b[1;34m\"A\"\u001b[0m\u001b[1;33m]\u001b[0m\u001b[1;33m[\u001b[0m\u001b[0mj\u001b[0m\u001b[1;33m]\u001b[0m\u001b[1;33m,\u001b[0m\u001b[0mp\u001b[0m\u001b[1;33m[\u001b[0m\u001b[1;34m\"B\"\u001b[0m\u001b[1;33m]\u001b[0m\u001b[1;33m[\u001b[0m\u001b[0mj\u001b[0m\u001b[1;33m]\u001b[0m\u001b[1;33m,\u001b[0m\u001b[0mp\u001b[0m\u001b[1;33m[\u001b[0m\u001b[1;34m\"g\"\u001b[0m\u001b[1;33m]\u001b[0m\u001b[1;33m[\u001b[0m\u001b[0mj\u001b[0m\u001b[1;33m]\u001b[0m\u001b[1;33m,\u001b[0m\u001b[0mp\u001b[0m\u001b[1;33m[\u001b[0m\u001b[1;34m\"h\"\u001b[0m\u001b[1;33m]\u001b[0m\u001b[1;33m[\u001b[0m\u001b[0mj\u001b[0m\u001b[1;33m]\u001b[0m\u001b[1;33m,\u001b[0m\u001b[0mge_temp\u001b[0m\u001b[1;33m+\u001b[0m\u001b[1;33m(\u001b[0m\u001b[0mH\u001b[0m\u001b[1;33m*\u001b[0m\u001b[1;36m0.5\u001b[0m\u001b[1;33m*\u001b[0m\u001b[0mk2\u001b[0m\u001b[1;33m)\u001b[0m\u001b[1;33m)\u001b[0m\u001b[1;33m\u001b[0m\u001b[1;33m\u001b[0m\u001b[0m\n\u001b[0;32m     51\u001b[0m             \u001b[0mk4\u001b[0m \u001b[1;33m=\u001b[0m \u001b[0mcalc_dydt\u001b[0m\u001b[1;33m(\u001b[0m\u001b[0mp\u001b[0m\u001b[1;33m[\u001b[0m\u001b[1;34m\"A\"\u001b[0m\u001b[1;33m]\u001b[0m\u001b[1;33m[\u001b[0m\u001b[0mj\u001b[0m\u001b[1;33m]\u001b[0m\u001b[1;33m,\u001b[0m\u001b[0mp\u001b[0m\u001b[1;33m[\u001b[0m\u001b[1;34m\"B\"\u001b[0m\u001b[1;33m]\u001b[0m\u001b[1;33m[\u001b[0m\u001b[0mj\u001b[0m\u001b[1;33m]\u001b[0m\u001b[1;33m,\u001b[0m\u001b[0mp\u001b[0m\u001b[1;33m[\u001b[0m\u001b[1;34m\"g\"\u001b[0m\u001b[1;33m]\u001b[0m\u001b[1;33m[\u001b[0m\u001b[0mj\u001b[0m\u001b[1;33m]\u001b[0m\u001b[1;33m,\u001b[0m\u001b[0mp\u001b[0m\u001b[1;33m[\u001b[0m\u001b[1;34m\"h\"\u001b[0m\u001b[1;33m]\u001b[0m\u001b[1;33m[\u001b[0m\u001b[0mj\u001b[0m\u001b[1;33m]\u001b[0m\u001b[1;33m,\u001b[0m\u001b[0mge_temp\u001b[0m\u001b[1;33m+\u001b[0m\u001b[1;33m(\u001b[0m\u001b[0mk3\u001b[0m\u001b[1;33m*\u001b[0m\u001b[0mH\u001b[0m\u001b[1;33m)\u001b[0m\u001b[1;33m)\u001b[0m\u001b[1;33m\u001b[0m\u001b[1;33m\u001b[0m\u001b[0m\n",
      "\u001b[1;32m<ipython-input-51-3db4d534c8e2>\u001b[0m in \u001b[0;36mcalc_dydt\u001b[1;34m(alpha, beta, g, h, exp)\u001b[0m\n\u001b[0;32m      8\u001b[0m \u001b[1;33m\u001b[0m\u001b[0m\n\u001b[0;32m      9\u001b[0m     \u001b[0mGeneration\u001b[0m \u001b[1;33m=\u001b[0m \u001b[0malpha\u001b[0m \u001b[1;33m*\u001b[0m \u001b[1;33m(\u001b[0m\u001b[0mnp\u001b[0m\u001b[1;33m.\u001b[0m\u001b[0mprod\u001b[0m\u001b[1;33m(\u001b[0m\u001b[0mpow\u001b[0m\u001b[1;33m(\u001b[0m\u001b[0mexp\u001b[0m\u001b[1;33m,\u001b[0m\u001b[0mg\u001b[0m\u001b[1;33m)\u001b[0m\u001b[1;33m)\u001b[0m\u001b[1;33m)\u001b[0m\u001b[1;33m\u001b[0m\u001b[1;33m\u001b[0m\u001b[0m\n\u001b[1;32m---> 10\u001b[1;33m     \u001b[0mDegeneration\u001b[0m \u001b[1;33m=\u001b[0m \u001b[0mbeta\u001b[0m\u001b[1;33m*\u001b[0m \u001b[1;33m(\u001b[0m\u001b[0mnp\u001b[0m\u001b[1;33m.\u001b[0m\u001b[0mprod\u001b[0m\u001b[1;33m(\u001b[0m\u001b[0mpow\u001b[0m\u001b[1;33m(\u001b[0m\u001b[0mexp\u001b[0m\u001b[1;33m,\u001b[0m\u001b[0mh\u001b[0m\u001b[1;33m)\u001b[0m\u001b[1;33m)\u001b[0m\u001b[1;33m)\u001b[0m\u001b[1;33m\u001b[0m\u001b[1;33m\u001b[0m\u001b[0m\n\u001b[0m\u001b[0;32m     11\u001b[0m     \u001b[1;32mreturn\u001b[0m \u001b[1;33m(\u001b[0m\u001b[0mGeneration\u001b[0m\u001b[1;33m-\u001b[0m\u001b[0mDegeneration\u001b[0m\u001b[1;33m)\u001b[0m\u001b[1;33m\u001b[0m\u001b[1;33m\u001b[0m\u001b[0m\n\u001b[0;32m     12\u001b[0m \u001b[1;33m\u001b[0m\u001b[0m\n",
      "\u001b[1;32m<__array_function__ internals>\u001b[0m in \u001b[0;36mprod\u001b[1;34m(*args, **kwargs)\u001b[0m\n",
      "\u001b[1;32m~\\Anaconda3\\lib\\site-packages\\numpy\\core\\fromnumeric.py\u001b[0m in \u001b[0;36mprod\u001b[1;34m(a, axis, dtype, out, keepdims, initial, where)\u001b[0m\n\u001b[0;32m   2997\u001b[0m     \u001b[1;36m10\u001b[0m\u001b[1;33m\u001b[0m\u001b[1;33m\u001b[0m\u001b[0m\n\u001b[0;32m   2998\u001b[0m     \"\"\"\n\u001b[1;32m-> 2999\u001b[1;33m     return _wrapreduction(a, np.multiply, 'prod', axis, dtype, out,\n\u001b[0m\u001b[0;32m   3000\u001b[0m                           keepdims=keepdims, initial=initial, where=where)\n\u001b[0;32m   3001\u001b[0m \u001b[1;33m\u001b[0m\u001b[0m\n",
      "\u001b[1;31mKeyboardInterrupt\u001b[0m: "
     ]
    }
   ],
   "source": [
    "#Main method running all the operations \n",
    "\n",
    "G=0\n",
    "g = random_population()\n",
    "\n",
    "all_values = []\n",
    "start = time.time()\n",
    "best_low=[1,1,np.array(16)]#initializing the worst fitness\n",
    "temp=0\n",
    "\n",
    "while(best_low[2]>1 or np.isnan(best_low[2])):\n",
    "    \n",
    "    #Saving expression and fitness for respective generation\n",
    "    save_values(get_full_set(g))\n",
    "    \n",
    "    #getting the next generation\n",
    "    new_g = next_generation(g)\n",
    "    #print(\"=================================================================================\")\n",
    "    #for x in range(temp):\n",
    "        #print(all_values[x][0])\n",
    "    #print(\"==================================================================================\")\n",
    "    \n",
    "    #getting the expression and fitness for next generation \n",
    "    full_set = get_full_set(new_g)\n",
    "    \n",
    "    \n",
    "    \n",
    "    best_low = all_values[len(all_values)-1].copy()\n",
    "    \n",
    "    #selection the btetter generation\n",
    "    g = selection(full_set[2], best_low[2],full_set[0],best_low[0]).copy()  \n",
    "\n",
    "    #print(g)\n",
    "    \n",
    "    #printing the generation and fitness value whenever it changes\n",
    "    if(len(all_values)>1):\n",
    "        old_fitness = all_values[len(all_values)-2][2].copy()\n",
    "        new_fitness = all_values[len(all_values)-1][2].copy()\n",
    "        if(old_fitness!=new_fitness):\n",
    "            print('Generation No:', len(all_values)+1) \n",
    "            print(\"Fitness:\",new_fitness)   \n",
    "    temp=temp+1            \n",
    "\n",
    "            \n",
    "#printing outcome            \n",
    "total_time_taken = (time.time()-start)\n",
    "G += len(all_values)\n",
    "print('number of Generation:', G)\n",
    "print('best_fitness:', best_low[2])\n",
    "print('total time taken:', total_time_taken)"
   ]
  },
  {
   "cell_type": "code",
   "execution_count": 120,
   "metadata": {},
   "outputs": [
    {
     "name": "stdout",
     "output_type": "stream",
     "text": [
      "number of Generation: 18370360\n",
      "best_fitness: 2.3434500060695864\n",
      "total time taken: 12.03627776801586  hours\n"
     ]
    }
   ],
   "source": [
    "total_time_taken = (time.time()-start)\n",
    "G += len(all_values)\n",
    "print('number of Generation:', G)\n",
    "print('best_fitness:', best_low[2])\n",
    "print('total time taken:', total_time_taken/(60*60),\" hours\")"
   ]
  },
  {
   "cell_type": "code",
   "execution_count": 92,
   "metadata": {},
   "outputs": [],
   "source": [
    "\n",
    "from datetime import date\n",
    "\n",
    "today = date.today()\n",
    "\n",
    "Text = \"CANONICAL S SYSTEM EQN\"+\"\\n\"+str(today)+'\\n'+'CR= '+str(CR)+'\\n'+'F= '+str(F)+'\\n'+'G='+str(G)+'\\n'+'parameters'+'\\n'+str(best_low[0])+'\\n'+'calculated gene expreesions'+'\\n'+str(best_low[1])+'\\n'+'fitness function'+str(best_low[2])+'\\n'+'time taken:'+str(total_time_taken/60)+' inutes'\n",
    "\n",
    "\n",
    "fileName = \"Results\"+str(today)\n",
    "with open(fileName, 'w') as out_file:\n",
    "    out_file.write(Text)   \n"
   ]
  },
  {
   "cell_type": "code",
   "execution_count": 113,
   "metadata": {},
   "outputs": [
    {
     "data": {
      "text/plain": [
       "11"
      ]
     },
     "execution_count": 113,
     "metadata": {},
     "output_type": "execute_result"
    }
   ],
   "source": [
    "org = ge_original\n",
    "ts = np.array([x/10 for x in range(11)]) #number of time points\n",
    "ge_calculated = best_low[1]\n",
    "len(ge_calculated)"
   ]
  },
  {
   "cell_type": "code",
   "execution_count": 114,
   "metadata": {},
   "outputs": [
    {
     "data": {
      "image/png": "[encoded data removed]",
      "text/plain": [
       "<Figure size 432x288 with 1 Axes>"
      ]
     },
     "metadata": {
      "needs_background": "light"
     },
     "output_type": "display_data"
    }
   ],
   "source": [
    "plt.plot(ts, ge_calculated[:,0], marker='o', color='black', linestyle='dashed'  )\n",
    "plt.plot(ts, org[:,0], marker='o', color='red')\n",
    "plt.xlabel('time')\n",
    "plt.ylabel('Gene expression for Gene1')\n",
    "plt.legend(('numerical','orginal'))\n",
    "plt.show()"
   ]
  },
  {
   "cell_type": "code",
   "execution_count": 115,
   "metadata": {},
   "outputs": [
    {
     "data": {
      "image/png": "[encoded data removed]",
      "text/plain": [
       "<Figure size 432x288 with 1 Axes>"
      ]
     },
     "metadata": {
      "needs_background": "light"
     },
     "output_type": "display_data"
    }
   ],
   "source": [
    "plt.plot(ts, ge_calculated[:,1], marker='o', color='black', linestyle='dashed'  )\n",
    "plt.plot(ts, org[:,1], marker='o', color='red')\n",
    "plt.xlabel('time')\n",
    "plt.ylabel('Gene expression for Gene2')\n",
    "plt.legend(('numerical','orginal'))\n",
    "plt.show()"
   ]
  },
  {
   "cell_type": "code",
   "execution_count": 116,
   "metadata": {},
   "outputs": [
    {
     "data": {
      "image/png": "[encoded data removed]",
      "text/plain": [
       "<Figure size 432x288 with 1 Axes>"
      ]
     },
     "metadata": {
      "needs_background": "light"
     },
     "output_type": "display_data"
    }
   ],
   "source": [
    " plt.plot(ts, ge_calculated[:,2], marker='o', color='black', linestyle='dashed'  )\n",
    "plt.plot(ts, org[:,2], marker='o', color='red')\n",
    "plt.xlabel('time')\n",
    "plt.ylabel('Gene expression for Gene3')\n",
    "plt.legend(('numerical','orginal'))\n",
    "plt.show()"
   ]
  },
  {
   "cell_type": "code",
   "execution_count": 117,
   "metadata": {},
   "outputs": [
    {
     "data": {
      "image/png": "[encoded data removed]",
      "text/plain": [
       "<Figure size 432x288 with 1 Axes>"
      ]
     },
     "metadata": {
      "needs_background": "light"
     },
     "output_type": "display_data"
    }
   ],
   "source": [
    "plt.plot(ts, ge_calculated[:,3], marker='o', color='black', linestyle='dashed'  )\n",
    "plt.plot(ts, org[:,3], marker='o', color='red')\n",
    "plt.xlabel('time')\n",
    "plt.ylabel('Gene expression for Gene4')\n",
    "plt.legend(('numerical','orginal'))\n",
    "plt.show()"
   ]
  },
  {
   "cell_type": "code",
   "execution_count": 118,
   "metadata": {},
   "outputs": [
    {
     "data": {
      "image/png": "[encoded data removed]",
      "text/plain": [
       "<Figure size 432x288 with 1 Axes>"
      ]
     },
     "metadata": {
      "needs_background": "light"
     },
     "output_type": "display_data"
    }
   ],
   "source": [
    "plt.plot(ts, ge_calculated[:,4], marker='o', color='black', linestyle='dashed'  )\n",
    "plt.plot(ts, org[:,4], marker='o', color='red')\n",
    "plt.xlabel('time')\n",
    "plt.ylabel('Gene expression for Gene5')\n",
    "plt.legend(('numerical','orginal'))\n",
    "plt.show()"
   ]
  },
  {
   "cell_type": "code",
   "execution_count": null,
   "metadata": {},
   "outputs": [],
   "source": []
  }
 ],
 "metadata": {
  "kernelspec": {
   "display_name": "Python 3",
   "language": "python",
   "name": "python3"
  },
  "language_info": {
   "codemirror_mode": {
    "name": "ipython",
    "version": 3
   },
   "file_extension": ".py",
   "mimetype": "text/x-python",
   "name": "python",
   "nbconvert_exporter": "python",
   "pygments_lexer": "ipython3",
   "version": "3.8.5"
  }
 },
 "nbformat": 4,
 "nbformat_minor": 4
}
