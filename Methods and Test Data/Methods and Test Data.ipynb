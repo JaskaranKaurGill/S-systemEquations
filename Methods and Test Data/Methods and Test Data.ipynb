{
 "cells": [
  {
   "cell_type": "markdown",
   "metadata": {},
   "source": [
    "<H1>RANDOM INITIALIZATION</H1>\n",
    "<img src=\"population initialization.PNG\">  </img>"
   ]
  },
  {
   "cell_type": "code",
   "execution_count": 3,
   "metadata": {},
   "outputs": [
    {
     "data": {
      "text/plain": [
       "array([[ 6.  ,  3.  , -0.  ,  0.  ,  0.  ,  0.  , -2.36,  0.  ,  0.  ,\n",
       "         1.22,  0.  ,  0.  ],\n",
       "       [11.  ,  3.  ,  0.  , -2.57, -0.  , -0.  ,  0.38, -0.  ,  2.59,\n",
       "        -2.01, -1.1 , -2.52],\n",
       "       [13.  , 12.  ,  0.26, -0.  , -1.07, -1.4 , -1.09, -0.  ,  0.  ,\n",
       "        -2.75,  2.35, -0.35],\n",
       "       [ 8.  ,  3.  , -1.56,  0.93, -0.  , -0.  ,  0.  ,  0.  , -2.76,\n",
       "        -0.  ,  0.  , -2.79],\n",
       "       [12.  ,  0.  , -0.66, -0.  , -1.9 ,  1.81, -0.  , -0.  ,  0.  ,\n",
       "        -0.  ,  1.82,  0.18]])"
      ]
     },
     "execution_count": 3,
     "metadata": {},
     "output_type": "execute_result"
    }
   ],
   "source": [
    "import pandas as pd\n",
    "import numpy as np\n",
    "import random\n",
    "n = 5 # number of genes\n",
    "\n",
    "def random_population():\n",
    "    \n",
    "    AB = np.random.randint(low=0,high=16, size=(n,2))\n",
    "    gh = np.round(np.random.uniform(low=-3,high=3.1, size=(n,2*n)),2)\n",
    "    \n",
    "    #this is to incorporate 50 percent random Zeros, as per Ahsan's population initialization method\n",
    "    zeros = np.random.randint(low=0,high=2, size=(n,2*n))\n",
    "    gh = gh*zeros\n",
    "    Parameters = np.concatenate((AB,gh),axis=1)\n",
    "    \n",
    "    \n",
    "    \n",
    "    return(Parameters)      \n",
    "\n",
    "random_population()"
   ]
  },
  {
   "cell_type": "markdown",
   "metadata": {},
   "source": [
    "<h1>TRIGNOMETRIC MUTATION OPERATION</h1>\n",
    "<img src = \"MO.jpg\"></img>"
   ]
  },
  {
   "cell_type": "markdown",
   "metadata": {},
   "source": [
    "<img src=\"tmo.jpg\"></img>\n"
   ]
  },
  {
   "cell_type": "code",
   "execution_count": null,
   "metadata": {},
   "outputs": [],
   "source": []
  },
  {
   "cell_type": "code",
   "execution_count": 29,
   "metadata": {},
   "outputs": [],
   "source": [
    "F=0.02\n",
    "def mutation(counter):\n",
    "    \n",
    "\n",
    "    \n",
    "    #the chances of 5% probability of TMO(Trignometric Mutation Operation) i.e. 1 out of 20 \n",
    "    #and 95% regular MO(Mutation Operation) i.e. 19 out of 20\n",
    "    #hence, counter is the number of loop, to ensure this happens as per the given data \n",
    "    \n",
    "    if(counter%20==0.000000000):\n",
    "        \n",
    "        return(trig_mutation())\n",
    "    else:\n",
    "        R1 = random_population()\n",
    "        R2 = random_population()\n",
    "        R3 = random_population()\n",
    "\n",
    "        return(R1+F*(R2-R3))\n",
    "    \n",
    "    \n",
    "    \n",
    "    \n",
    "def trig_mutation():\n",
    "    \n",
    "    \n",
    "    #R1,R2,R3 are random populations\n",
    "    #F are respective fitness values of the data\n",
    "    \n",
    "    \n",
    "    #just giving the test data for testing the working \n",
    "    #R1 = random_population()\n",
    "    #F_R1 = fitness(F_R1)\n",
    "    \n",
    "    #R2 = random_population()\n",
    "    #F_R2 = fitness(F_R2)\n",
    "        \n",
    "    #R3 = random_population()\n",
    "    #F_R3 = fitness(F_R3)\n",
    "    \n",
    "    #print(F_R1,F_R2,F_R3) \n",
    "    \n",
    "    \n",
    "    P = F_R1+F_R2+F_R3\n",
    "    P1 = F_R1/P\n",
    "    P2 = F_R2/P\n",
    "    P3 = F_R3/P\n",
    "    weighted1,weighted2,weighted3 = R1,R2,R3\n",
    "    average = (R1+R2+R3)/3\n",
    "    for i in range(n):\n",
    "        weighted1[i] = (P2[i]-P1[i])*(R1[i]-R2[i])\n",
    "        weighted2[i] = (P3[i]-P2[i])*(R2[i]-R3[i])\n",
    "        weighted3[i] = (P1[i]-P3[i])*(R3[i]-R1[i])\n",
    "    return(average+weighted1+weighted2+weighted3)\n",
    "    \n"
   ]
  },
  {
   "cell_type": "code",
   "execution_count": 21,
   "metadata": {},
   "outputs": [],
   "source": [
    "#Test Data for Mutation\n",
    "\n",
    "R1 = np.array([[ 3.4  ,  6.8  , -1.532,  0.   ,  0.   , -0.568, -0.378,  0.   ,\n",
    "           0.514,  0.   ,  0.   ,  0.   ],\n",
    "         [11.4  , 11.8  ,  1.498, -1.06 ,  1.11 ,  0.6  ,  0.   ,  0.   ,\n",
    "           0.888,  0.   ,  0.   ,  0.268],\n",
    "         [12.   , 10.4  ,  0.   ,  1.28 , -2.744,  0.   ,  0.   , -0.958,\n",
    "           1.944,  0.   ,  0.   , -0.354],\n",
    "         [ 8.   ,  7.6  ,  1.85 ,  0.296,  0.818,  0.   ,  0.   , -0.516,\n",
    "           0.   ,  0.   ,  1.81 ,  0.77 ],\n",
    "         [ 7.8  ,  6.8  , -0.556,  0.314,  0.   ,  2.37 , -0.47 , -0.89 ,\n",
    "           0.   ,  0.   ,  0.59 ,  1.282]])\n",
    "F_R1 = np.array([0.05291094, 0.05692259, 0.07430241, 0.08456928, 0.08519911])\n",
    "\n",
    "R2 = np.array([[ 4.4  , 12.   , -0.324, -0.642,  0.   ,  2.526, -2.402,  2.9  ,\n",
    "           0.616,  0.   ,  0.   ,  0.   ],\n",
    "         [11.   , 12.2  ,  1.184, -0.422,  1.076,  0.   ,  0.   ,  0.   ,\n",
    "           0.914,  0.   ,  0.   ,  0.364],\n",
    "         [13.   , 13.   ,  0.   ,  0.   , -1.67 ,  0.38 ,  0.   ,  0.   ,\n",
    "           0.   ,  0.   ,  0.366,  0.   ],\n",
    "         [12.   , 10.6  ,  0.292,  2.802,  2.93 , -2.174,  0.   , -0.272,\n",
    "           0.   ,  0.   ,  0.596,  0.   ],\n",
    "         [ 3.2  ,  2.2  ,  0.726,  1.166,  0.   ,  2.42 , -0.812, -0.9  ,\n",
    "           0.   ,  0.   ,  0.   ,  2.38 ]])\n",
    "\n",
    "F_R2 = np.array([0.09752951, 0.04802134, 0.02435411, 0.11444071, 0.11595566])\n",
    "R3 = np.array([[ 4.8  ,  7.6  ,  0.   , -2.01 ,  1.53 ,  0.   ,  0.   ,  0.424,\n",
    "          -0.478,  0.398,  0.   ,  0.   ],\n",
    "         [10.4  , 10.2  ,  1.994,  0.   ,  0.25 ,  0.   ,  0.   ,  0.   ,\n",
    "           1.902,  0.   ,  0.   ,  0.   ],\n",
    "         [ 0.4  ,  0.4  ,  0.296,  0.   , -2.598,  0.   , -0.57 ,  0.   ,\n",
    "           0.   ,  0.   ,  0.   ,  0.   ],\n",
    "         [ 4.8  ,  4.6  ,  2.65 ,  0.   ,  1.542,  0.   , -0.3  , -0.5  ,\n",
    "           0.   ,  0.   ,  2.632,  0.   ],\n",
    "         [ 4.4  ,  4.   ,  0.358,  0.578,  0.   ,  2.992, -0.702,  0.   ,\n",
    "           0.   ,  0.   ,  0.   ,  2.624]])\n",
    "F_R3 = np.array([0.06602153, 0.0426051 , 0.0351454 , 0.08292954, 0.08486609])\n"
   ]
  },
  {
   "cell_type": "code",
   "execution_count": 17,
   "metadata": {},
   "outputs": [
    {
     "data": {
      "text/plain": [
       "array([[ 1.4020e+01,  6.1000e+00,  2.1400e-02, -3.0000e-02,  1.7964e+00,\n",
       "         5.0000e-03,  3.9000e-01,  2.3900e+00, -3.8800e-02, -3.9000e-02,\n",
       "        -0.0000e+00,  9.8000e-01],\n",
       "       [ 5.9800e+00,  7.0200e+00,  2.9400e-02,  2.4708e+00,  8.6600e-02,\n",
       "        -8.8400e-02,  2.3000e-02,  2.2006e+00, -2.6232e+00,  1.5624e+00,\n",
       "         0.0000e+00,  0.0000e+00],\n",
       "       [ 1.0400e+00,  2.0200e+00,  3.7800e-02, -3.8780e-01, -2.5964e+00,\n",
       "         5.7400e-02, -1.3414e+00,  4.8000e-03, -2.5798e+00, -3.5200e-02,\n",
       "         2.9660e+00, -2.9200e-02],\n",
       "       [ 6.9600e+00,  1.0600e+00, -7.1360e-01, -1.2046e+00,  0.0000e+00,\n",
       "        -1.9272e+00,  2.0600e-02,  1.2888e+00, -1.3718e+00,  0.0000e+00,\n",
       "         5.8000e-02,  7.2000e-03],\n",
       "       [ 6.0800e+00,  7.8800e+00, -1.1000e+00,  1.0200e-02, -5.8000e-02,\n",
       "         1.8834e+00, -1.9974e+00,  2.2230e+00,  2.9440e-01, -5.7000e-02,\n",
       "         7.8120e-01,  1.8494e+00]])"
      ]
     },
     "execution_count": 17,
     "metadata": {},
     "output_type": "execute_result"
    }
   ],
   "source": [
    "#testing regular Mutation Operation\n",
    "mutation(101)"
   ]
  },
  {
   "cell_type": "code",
   "execution_count": 22,
   "metadata": {},
   "outputs": [
    {
     "data": {
      "text/plain": [
       "array([[ 3.74888775e+00,  6.56244838e+00, -8.35587883e-01,\n",
       "        -8.21035324e-01,  6.40036724e-01, -3.91398283e-01,\n",
       "        -1.34565002e-01,  8.79428926e-02,  6.47448222e-02,\n",
       "         1.66493213e-01,  0.00000000e+00,  0.00000000e+00],\n",
       "       [ 1.18986880e+01,  1.23381351e+01,  1.76478426e+00,\n",
       "        -4.43755098e-01,  8.04085904e-01,  1.67315896e-01,\n",
       "         0.00000000e+00,  0.00000000e+00,  1.45691202e+00,\n",
       "         0.00000000e+00,  0.00000000e+00,  2.02534386e-01],\n",
       "       [ 9.86398618e+00,  9.75313976e+00,  1.61418032e-01,\n",
       "         8.86771322e-02, -2.73919698e+00,  2.57654779e-01,\n",
       "        -3.10838777e-01, -6.63692912e-02,  1.34678395e-01,\n",
       "         0.00000000e+00,  2.48162234e-01, -2.45247694e-02],\n",
       "       [ 7.06853574e+00,  6.64015831e+00,  2.04039879e+00,\n",
       "         4.55533214e-01,  1.39470618e+00, -2.52692825e-01,\n",
       "        -1.35274490e-01, -4.83425271e-01,  0.00000000e+00,\n",
       "         0.00000000e+00,  2.05007079e+00,  3.37773523e-01],\n",
       "       [ 5.76296634e+00,  5.02771873e+00, -1.27982727e-03,\n",
       "         5.31248169e-01,  0.00000000e+00,  2.65428789e+00,\n",
       "        -6.13460722e-01, -4.97765417e-01,  0.00000000e+00,\n",
       "         0.00000000e+00,  2.60036997e-01,  2.00697729e+00]])"
      ]
     },
     "execution_count": 22,
     "metadata": {},
     "output_type": "execute_result"
    }
   ],
   "source": [
    "#testing TMA\n",
    "mutation(100)"
   ]
  },
  {
   "cell_type": "markdown",
   "metadata": {},
   "source": [
    "<h1>CROSSOVER</h1>\n",
    "        <img src=\"crossover.PNG\"></img>"
   ]
  },
  {
   "cell_type": "code",
   "execution_count": 24,
   "metadata": {},
   "outputs": [
    {
     "data": {
      "text/plain": [
       "array([[16.4  ,  7.945,  0.   ,  0.   ,  2.714, -1.86 , -0.675,  1.74 ,\n",
       "         0.   ,  0.   ,  0.998,  0.25 ],\n",
       "       [ 6.2  ,  4.8  ,  0.962,  0.   , -0.3  ,  0.516, -0.42 ,  0.   ,\n",
       "         0.64 ,  0.972,  0.95 ,  0.   ],\n",
       "       [10.745, 10.73 , -0.062,  0.   ,  0.366,  0.   ,  0.   , -0.398,\n",
       "        -0.52 , -0.318, -0.144,  0.   ],\n",
       "       [13.415, 10.965, -1.626,  0.44 ,  2.734, -0.234,  0.25 ,  0.   ,\n",
       "         1.112, -0.434,  1.55 ,  0.   ],\n",
       "       [11.4  , 12.255,  0.   ,  0.   ,  2.952,  0.495,  0.   , -0.398,\n",
       "         0.   ,  2.398,  0.   ,  0.562]])"
      ]
     },
     "execution_count": 24,
     "metadata": {},
     "output_type": "execute_result"
    }
   ],
   "source": [
    "CR=0.5\n",
    "\n",
    "def crossover(mut,target):\n",
    "\n",
    "    rand_j = np.random.uniform(low=0,high=1,size=target.shape)\n",
    "    \n",
    "    CR_array = np.full(target.shape,CR)\n",
    "    random_index_i = np.random.randint(0,4)\n",
    "    random_index_j = np.random.randint(0,11)\n",
    "    \n",
    "    compare = rand_j<=CR_array\n",
    "    trial = (mut.copy()*compare)+(target.copy()*~compare)\n",
    "    \n",
    "    trial[random_index_i][random_index_j]=mut[random_index_i][random_index_j].copy()\n",
    "    \n",
    "    return(trial) \n",
    "\n",
    "A = np.array([[ 3.79 ,  7.945,  0.   ,  0.   ,  0.   ,  0.   , -0.675,  1.74 ,\n",
    "         0.   ,  0.   ,  0.535,  0.25 ],\n",
    "       [ 4.885,  7.37 ,  0.   ,  0.   ,  0.   ,  1.14 , -1.33 ,  0.   ,\n",
    "         0.64 ,  0.   ,  0.95 ,  0.   ],\n",
    "       [10.745, 10.73 ,  0.   ,  0.   , -1.41 ,  0.   ,  0.   ,  0.   ,\n",
    "         0.   ,  0.   ,  0.   ,  0.   ],\n",
    "       [13.415, 10.965,  2.425,  0.44 ,  0.595,  0.   ,  0.25 ,  0.   ,\n",
    "         0.   ,  0.   ,  2.275,  0.   ],\n",
    "       [13.495, 12.255,  0.   ,  1.645,  0.   ,  0.495,  0.445,  0.   ,\n",
    "         0.   ,  0.   ,  0.   ,  2.18 ]])\n",
    "B = np.array([[16.4  , 18.4  , -0.122,  0.68 ,  2.714, -1.86 ,  0.   ,  2.93 ,\n",
    "         0.   ,  0.   ,  0.998,  1.31 ],\n",
    "       [ 6.2  ,  4.8  ,  0.962,  0.   , -0.3  ,  0.516, -0.42 , -1.03 ,\n",
    "         1.542,  0.972, -0.254,  0.   ],\n",
    "       [ 4.8  ,  1.   , -0.062,  0.   ,  0.366, -2.92 ,  0.894, -0.398,\n",
    "        -0.52 , -0.318, -0.144,  0.33 ],\n",
    "       [12.2  , 16.2  , -1.626, -0.74 ,  2.734, -0.234,  0.   ,  0.472,\n",
    "         1.112, -0.434,  1.55 ,  0.114],\n",
    "       [11.4  ,  4.8  ,  0.598,  0.   ,  2.952,  0.468,  0.   , -0.398,\n",
    "         0.   ,  2.398, -0.354,  0.562]])\n",
    "crossover(A,B)"
   ]
  },
  {
   "cell_type": "markdown",
   "metadata": {},
   "source": [
    "<h1>CHECK BOUNDS</h1>\n",
    "<img src=\"bounds.PNG\"></img>"
   ]
  },
  {
   "cell_type": "code",
   "execution_count": 25,
   "metadata": {},
   "outputs": [
    {
     "data": {
      "text/plain": [
       "array([[ 3.79 , 10.   ,  0.   ,  0.   ,  0.   ,  0.   , -0.675,  1.74 ,\n",
       "         0.   ,  0.   ,  0.535,  0.25 ],\n",
       "       [ 4.885,  7.37 ,  0.   ,  2.   ,  0.   ,  1.14 , -1.33 ,  0.   ,\n",
       "         0.64 ,  0.   ,  0.95 ,  0.   ],\n",
       "       [10.   , 10.73 ,  0.   ,  0.   ,  0.   ,  0.   ,  0.   ,  0.   ,\n",
       "         0.   ,  0.   ,  0.   ,  0.   ],\n",
       "       [ 4.   , 10.965,  0.   ,  0.44 ,  0.595, -2.   , -2.   ,  0.   ,\n",
       "         0.   ,  0.   ,  2.275,  0.   ],\n",
       "       [13.495, 10.   ,  0.   ,  1.645,  0.   ,  1.   ,  0.445,  0.   ,\n",
       "         0.   ,  0.   ,  0.   ,  2.18 ]])"
      ]
     },
     "execution_count": 25,
     "metadata": {},
     "output_type": "execute_result"
    }
   ],
   "source": [
    "def check_bounds(trial):\n",
    "    \n",
    "    low_bounds = np.array(np.concatenate((np.full((n,2),0), np.full((n,n),-3),np.full((n,n),-3)), axis=1))\n",
    "    upper_bounds = np.array(np.concatenate((np.full((n,2),15), np.full((n,n),3),np.full((n,n),3)), axis=1))\n",
    "    \n",
    "    while( (trial<low_bounds).any() or (trial>upper_bounds).any()):\n",
    "        trial[trial>upper_bounds]=2*(upper_bounds[trial>upper_bounds])-trial[trial>upper_bounds]\n",
    "        trial[trial<low_bounds]=2*(low_bounds[trial<low_bounds])-trial[trial<low_bounds]\n",
    "\n",
    "    \n",
    "    return(trial)\n",
    "\n",
    "A = np.array([[ 3.79 ,  40,  0.   ,  0.   ,  0.   ,  0.   , -0.675,  1.74 ,\n",
    "         0.   ,  0.   ,  0.535,  0.25 ],\n",
    "       [ 4.885,  7.37 ,  0.   ,  4   ,  0.   ,  1.14 , -1.33 ,  0.   ,\n",
    "         0.64 ,  0.   ,  0.95 ,  0.   ],\n",
    "       [50, 10.73 ,  0.   ,  0.   , 6 ,  0.   ,  0.   ,  6   ,\n",
    "         0.   ,  0.   ,  0.   ,  0.   ],\n",
    "       [-34, 10.965,  6,  0.44 ,  0.595, 8   ,  8 ,  0.   ,\n",
    "         0.   ,  0.   ,  2.275,  0.   ],\n",
    "       [13.495, 80,  0.   ,  1.645,  0.   ,  -7,  0.445,  0.   ,\n",
    "         0.   ,  0.   ,  0.   ,  2.18 ]])\n",
    "check_bounds(A)"
   ]
  },
  {
   "cell_type": "markdown",
   "metadata": {},
   "source": [
    "<h1> FORCING TO ZERO </h1>\n",
    "<img src=\"force to zero.PNG\"></img>"
   ]
  },
  {
   "cell_type": "code",
   "execution_count": 26,
   "metadata": {},
   "outputs": [
    {
     "data": {
      "text/plain": [
       "array([[ 3.79 , 10.   ,  0.   ,  0.   ,  0.   ,  0.   ,  0.   ,  1.74 ,\n",
       "         0.   ,  0.   ,  0.535,  0.25 ],\n",
       "       [ 4.885,  7.37 ,  0.   ,  2.   ,  0.   ,  1.14 , -1.24 ,  0.   ,\n",
       "         0.64 ,  0.   ,  0.95 ,  0.   ],\n",
       "       [10.   , 10.73 ,  0.   ,  0.   ,  0.   ,  0.   ,  0.   ,  0.   ,\n",
       "         0.   ,  0.   ,  0.   ,  0.   ],\n",
       "       [ 4.   , 10.965,  0.   ,  0.44 ,  0.595, -2.   , -2.   ,  0.   ,\n",
       "         0.   ,  0.   ,  2.275,  0.   ],\n",
       "       [13.495, 10.   ,  0.   ,  1.645,  0.   ,  1.   ,  0.445,  0.   ,\n",
       "         0.   ,  0.   ,  0.   ,  2.18 ]])"
      ]
     },
     "execution_count": 26,
     "metadata": {},
     "output_type": "execute_result"
    }
   ],
   "source": [
    "def forceToZero(trial):\n",
    "    thresholdup = 0.25\n",
    "    thresholdlow = -0.25\n",
    "    trial[(trial > thresholdlow) & (trial < thresholdup )]=0\n",
    "    #low_bounds = np.array(np.concatenate((np.full((n,2),1), np.full((2*n,2*n),-3), axis=1))\n",
    "    return(trial)\n",
    "\n",
    "A = np.array([[ 3.79 , 10.   ,  0.   ,  0.   ,  0.   ,  0.   , -0.23,  1.74 ,\n",
    "         0.   ,  0.   ,  0.535,  0.25 ],\n",
    "       [ 4.885,  7.37 ,  0.11   ,  2.   ,  0.   ,  1.14 , -1.24 ,  0.   ,\n",
    "         0.64 ,  0.   ,  0.95 ,  0.   ],\n",
    "       [10.   , 10.73 ,  0.09   ,  0.   ,  0.   ,  0.   ,  0.   ,  0.   ,\n",
    "         0.   ,  0.   ,  0.05   ,  0.   ],\n",
    "       [ 4.   , 10.965,  0.03   ,  0.44 ,  0.595, -2.   , -2.   ,  0.   ,\n",
    "         0.   ,  0.   ,  2.275,  0.01   ],\n",
    "       [13.495, 10.   ,  0.   ,  1.645,  0.   ,  1.   ,  0.445,  0.   ,\n",
    "         0.   ,  0.   ,  0.   ,  2.18 ]])\n",
    "#as per Ahsan's thesis they used threshold as 0.25 hence, using same \n",
    "forceToZero(A)"
   ]
  },
  {
   "cell_type": "markdown",
   "metadata": {},
   "source": []
  }
 ],
 "metadata": {
  "kernelspec": {
   "display_name": "Python 3",
   "language": "python",
   "name": "python3"
  },
  "language_info": {
   "codemirror_mode": {
    "name": "ipython",
    "version": 3
   },
   "file_extension": ".py",
   "mimetype": "text/x-python",
   "name": "python",
   "nbconvert_exporter": "python",
   "pygments_lexer": "ipython3",
   "version": "3.8.5"
  }
 },
 "nbformat": 4,
 "nbformat_minor": 4
}
