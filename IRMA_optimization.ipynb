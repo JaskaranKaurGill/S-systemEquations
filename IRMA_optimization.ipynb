{
 "cells": [
  {
   "cell_type": "code",
   "execution_count": 1,
   "metadata": {},
   "outputs": [],
   "source": [
    "import numpy as np\n",
    "from scipy.integrate import odeint\n",
    "import matplotlib.pyplot as plt\n",
    "import random"
   ]
  },
  {
   "cell_type": "code",
   "execution_count": 391,
   "metadata": {},
   "outputs": [
    {
     "data": {
      "text/plain": [
       "array([0.0045, 0.0324, 0.0075, 0.0221, 0.012 ])"
      ]
     },
     "execution_count": 391,
     "metadata": {},
     "output_type": "execute_result"
    }
   ],
   "source": [
    "import pandas as pd\n",
    "df = pd.read_excel('data.xlsx')\n",
    "real_G_ex = np.array(df)\n",
    "real_G_ex[1]"
   ]
  },
  {
   "cell_type": "code",
   "execution_count": 3,
   "metadata": {},
   "outputs": [],
   "source": [
    "#Parameters\n",
    "n = 5 #Number of Genes\n",
    "#G = 100 #Maximum Number of Generation\n",
    "T = 16 #Number of time points\n",
    "t = np.linspace(0,300,16)"
   ]
  },
  {
   "cell_type": "code",
   "execution_count": 4,
   "metadata": {},
   "outputs": [],
   "source": [
    "best_low = dict()"
   ]
  },
  {
   "cell_type": "code",
   "execution_count": 44,
   "metadata": {},
   "outputs": [],
   "source": [
    "def rand(l,h,shape):\n",
    "    return(np.random.uniform(low=l, high=h, size=shape))"
   ]
  },
  {
   "cell_type": "code",
   "execution_count": 123,
   "metadata": {},
   "outputs": [],
   "source": [
    "def mutation(l,h,i):\n",
    "    r1 = rand(l,h,i.shape)\n",
    "    r2 = rand(l,h,i.shape)\n",
    "    r3 = rand(l,h,i.shape)\n",
    "    F = 0.02\n",
    "    return(r1+F*(r2-r3))"
   ]
  },
  {
   "cell_type": "code",
   "execution_count": 237,
   "metadata": {},
   "outputs": [
    {
     "data": {
      "text/plain": [
       "0.4788451321549628"
      ]
     },
     "execution_count": 237,
     "metadata": {},
     "output_type": "execute_result"
    }
   ],
   "source": [
    "np.random.uniform(0,1)"
   ]
  },
  {
   "cell_type": "code",
   "execution_count": 317,
   "metadata": {},
   "outputs": [],
   "source": [
    "def crossover(g_mutant,g_target):\n",
    "    \n",
    "    CR = 0.5\n",
    "    temp = np.empty(g_target.shape)\n",
    "    j_rand = np.random.randint(0,len(g_target))\n",
    "    j = rand(0,1,g_target.shape)\n",
    "    i = 0\n",
    "    for x,y,z,t in zip(np.nditer(j),np.nditer(g_mutant),np.nditer(g_target),np.nditer(temp)):\n",
    "        if(x<=CR or x==j_rand):\n",
    "            t =y\n",
    "        elif(x>CR and x!=j_rand):\n",
    "            t =z\n",
    "    \n",
    "    return(temp)       \n",
    "            \n",
    "            \n",
    "            "
   ]
  },
  {
   "cell_type": "code",
   "execution_count": 7,
   "metadata": {},
   "outputs": [],
   "source": [
    "def define_equation(A,B,g,h,Y):\n",
    "    \n",
    "    dydt = A*(np.prod(np.power(Y,g)))-B*(np.prod(np.power(Y,h)))\n",
    "\n",
    "    return dydt"
   ]
  },
  {
   "cell_type": "code",
   "execution_count": 8,
   "metadata": {},
   "outputs": [],
   "source": [
    "def random_population():\n",
    "    learning_parameters = {'A': np.random.uniform(low=0, high=20, size=(n,)), \n",
    "                           'B': np.random.uniform(low=0, high=20, size=(n,)), \n",
    "                           'g': np.random.uniform(low=-3, high=3, size=(n,n)),\n",
    "                           'h': np.random.uniform(low=-3, high=3, size=(n,n))}\n",
    "    return learning_parameters"
   ]
  },
  {
   "cell_type": "code",
   "execution_count": 9,
   "metadata": {},
   "outputs": [],
   "source": [
    "def get_dydt(ln):\n",
    "    CalcGenes = []\n",
    "    for j in range(n):\n",
    "        temp = []\n",
    "        for i in range(len(real_G_ex)):\n",
    "            temp.append(define_equation(ln['A'][j],ln['B'][j],ln['g'][j],ln['h'][j],real_G_ex[i]))\n",
    "        CalcGenes.append(temp)\n",
    "    return(CalcGenes)"
   ]
  },
  {
   "cell_type": "code",
   "execution_count": 194,
   "metadata": {},
   "outputs": [],
   "source": [
    "def selection(fitness_new, fitness_old,g_new,g_old):\n",
    "    #we assume that old generation is the best\n",
    "    g_temp = g_old\n",
    " \n",
    "    for i in range(len(fitness_new)):\n",
    "       \n",
    "        if(fitness_new[i]<fitness_old[i]):\n",
    "            g_temp['A'][i]=g_new['A'][i]\n",
    "            g_temp['B'][i]=g_new['B'][i]\n",
    "            g_temp['g'][i]=g_new['g'][i]\n",
    "            g_temp['h'][i]=g_new['h'][i]\n",
    "\n",
    "    return(g_temp)"
   ]
  },
  {
   "cell_type": "code",
   "execution_count": 11,
   "metadata": {},
   "outputs": [],
   "source": [
    "def fitness(CalcGenes,real_G_ex):\n",
    "    fit = ((CalcGenes-real_G_ex)/real_G_ex)**2\n",
    "    return(np.sum(fit, axis=0))    "
   ]
  },
  {
   "cell_type": "code",
   "execution_count": 319,
   "metadata": {},
   "outputs": [],
   "source": [
    "def next_generation(g):\n",
    "    #print('this is the g we got')\n",
    "    #print(g)\n",
    "    g_mutant = dict()\n",
    "    g_mutant['A']=mutation(0,20,g['A'])\n",
    "    g_mutant['B']=mutation(0,20,g['B'])\n",
    "    g_mutant['g']=mutation(-3,3,g['g'])\n",
    "    g_mutant['h']=mutation(-3,3,g['h'])\n",
    "    #g_temp = {'A': np.random.uniform(low=0, high=20, size=(n,)), \n",
    "                  #'B': np.random.uniform(low=0, high=20, size=(n,)), \n",
    "                  #'g': np.random.uniform(low=-3, high=3, size=(n,n)),\n",
    "                  #'h': np.random.uniform(low=-3, high=3, size=(n,n))}\n",
    "    g_trial = dict()\n",
    "    g_trial['A'] = crossover(g_mutant['A'],g['A'])\n",
    "    g_trial['B'] = crossover(g_mutant['B'],g['B'])\n",
    "    g_trial['g'] = crossover(g_mutant['g'],g['g'])\n",
    "    g_trial['h'] = crossover(g_mutant['h'],g['h'])\n",
    "            \n",
    "    return(g_trial)"
   ]
  },
  {
   "cell_type": "code",
   "execution_count": 13,
   "metadata": {},
   "outputs": [],
   "source": [
    "def save_values(l):\n",
    "    curr_len = len(all_values)\n",
    "    all_values[curr_len]=l"
   ]
  },
  {
   "cell_type": "code",
   "execution_count": null,
   "metadata": {},
   "outputs": [],
   "source": [
    "    \n",
    "    for i, j in zip([1,2,3], [3,2,1]):\n",
    "    print (i, j)\n",
    "    \n",
    "    \n",
    "    "
   ]
  },
  {
   "cell_type": "code",
   "execution_count": 14,
   "metadata": {},
   "outputs": [],
   "source": [
    "def get_full_set(g):\n",
    "    exp = np.transpose(get_dydt(g))\n",
    "    fit = fitness(exp,real_G_ex)\n",
    "    return([g,exp,fit])\n",
    "    "
   ]
  },
  {
   "cell_type": "code",
   "execution_count": null,
   "metadata": {},
   "outputs": [],
   "source": []
  },
  {
   "cell_type": "raw",
   "metadata": {},
   "source": []
  },
  {
   "cell_type": "code",
   "execution_count": 210,
   "metadata": {},
   "outputs": [],
   "source": [
    "\n"
   ]
  },
  {
   "cell_type": "code",
   "execution_count": 365,
   "metadata": {},
   "outputs": [],
   "source": [
    "import time"
   ]
  },
  {
   "cell_type": "code",
   "execution_count": 383,
   "metadata": {},
   "outputs": [
    {
     "name": "stdout",
     "output_type": "stream",
     "text": [
      "number of Generation: 68029\n",
      "best_fitness: [1.64201845 0.39379374 1.73001399 1.00717764 1.02401712]\n",
      "total time taken: 349.83281350135803\n"
     ]
    }
   ],
   "source": [
    "G=0\n",
    "g = random_population()\n",
    "all_values = dict()\n",
    "start = time.time()\n",
    "best_low=np.array([16,16,16,16,16])\n",
    "while(np.sum(best_low[2])>6):\n",
    "    save_values(get_full_set(g))\n",
    "    new_g = next_generation(g)\n",
    "    full_set = get_full_set(new_g)\n",
    "    best_low = all_values[len(all_values)-1]\n",
    "    g = selection(full_set[2], best_low[2],full_set[0],best_low[0])    \n",
    "    \n",
    "total_time_taken = (time.time()-start)\n",
    "G += len(all_values)\n",
    "print('number of Generation:', G)\n",
    "print('best_fitness:', best_low[2])\n",
    "print('total time taken:', total_time_taken)"
   ]
  },
  {
   "cell_type": "code",
   "execution_count": 393,
   "metadata": {},
   "outputs": [
    {
     "data": {
      "text/plain": [
       "{'A': array([ 5.67278298,  5.85550147, 19.49385855, 19.46817015,  3.59330543]),\n",
       " 'B': array([0.77500562, 0.98783802, 0.84374217, 0.10607076, 0.86355082]),\n",
       " 'g': array([[ 1.42604045,  0.5499565 , -0.13706501, -0.02793267, -0.50873362],\n",
       "        [-0.00611853,  1.77700255,  0.02789871, -0.46636196,  0.13618582],\n",
       "        [ 0.68474841,  0.80352242,  0.6887919 , -0.62584871,  0.18338567],\n",
       "        [-0.00782087,  0.27337449, -0.30659262,  1.28207438,  0.46109726],\n",
       "        [-0.23573516, -0.2562239 ,  0.42282942,  0.16976267,  1.31679413]]),\n",
       " 'h': array([[0.15302988, 0.69773683, 0.97101784, 0.03680359, 0.55631221],\n",
       "        [0.4540126 , 0.72032046, 0.15913586, 0.4209267 , 0.58073619],\n",
       "        [0.1127516 , 0.50273242, 0.1903082 , 0.2817746 , 0.53261431],\n",
       "        [0.05416421, 0.5523314 , 0.40624115, 0.72731994, 0.71277174],\n",
       "        [0.53400876, 0.43575864, 0.95365782, 0.66031822, 0.03695606]])}"
      ]
     },
     "execution_count": 393,
     "metadata": {},
     "output_type": "execute_result"
    }
   ],
   "source": [
    "best_low[0]"
   ]
  },
  {
   "cell_type": "code",
   "execution_count": 394,
   "metadata": {},
   "outputs": [
    {
     "data": {
      "text/plain": [
       "array([[0.00387195, 0.01069041, 0.0012294 , 0.00981247, 0.00313055],\n",
       "       [0.00797355, 0.03853246, 0.00404188, 0.03496552, 0.00603917],\n",
       "       [0.01202574, 0.02810177, 0.01107751, 0.02479054, 0.00816034],\n",
       "       [0.00911952, 0.0185661 , 0.02217067, 0.00545246, 0.01376732],\n",
       "       [0.00443825, 0.01594254, 0.01392624, 0.0045067 , 0.01619969],\n",
       "       [0.00871432, 0.01257857, 0.02085823, 0.00713241, 0.02465193],\n",
       "       [0.00659534, 0.00878442, 0.0133523 , 0.00737028, 0.02111587],\n",
       "       [0.00590035, 0.00868711, 0.01402423, 0.00659816, 0.02824327],\n",
       "       [0.01358629, 0.00827414, 0.02290201, 0.00650467, 0.02517887],\n",
       "       [0.01975094, 0.01669526, 0.03986925, 0.00961559, 0.03280813],\n",
       "       [0.04410714, 0.00883488, 0.04224455, 0.01014994, 0.0234938 ],\n",
       "       [0.02803722, 0.00933108, 0.03455663, 0.00711326, 0.02368189],\n",
       "       [0.02177027, 0.00630262, 0.02517421, 0.00509651, 0.02097327],\n",
       "       [0.02102037, 0.00860253, 0.02714296, 0.00426723, 0.01694771],\n",
       "       [0.01943601, 0.00583114, 0.02396695, 0.0030933 , 0.01642047],\n",
       "       [0.02782577, 0.00797136, 0.02126012, 0.00625182, 0.01168392]])"
      ]
     },
     "execution_count": 394,
     "metadata": {},
     "output_type": "execute_result"
    }
   ],
   "source": [
    "best_low[1]"
   ]
  },
  {
   "cell_type": "code",
   "execution_count": 221,
   "metadata": {},
   "outputs": [],
   "source": [
    "fitness_list = []\n",
    "for i in range(len(all_values)):\n",
    "    fitness_list.append(list(all_values[i][2]))\n",
    "gs = []\n",
    "for i in range(len(all_values)):\n",
    "    gs.append(list(all_values[i][1]))\n",
    "df = pd.DataFrame(fitness_list)\n",
    "from openpyxl import load_workbook\n",
    "writer = pd.ExcelWriter(\"fitness3.xlsx\", engine = 'openpyxl')\n",
    "book = load_workbook(\"fitness3.xlsx\")\n",
    "writer.book = book\n",
    "df.to_excel(writer, sheet_name = 'sheet')\n",
    "writer.save()\n",
    "writer.close()"
   ]
  },
  {
   "cell_type": "code",
   "execution_count": 113,
   "metadata": {
    "scrolled": false
   },
   "outputs": [
    {
     "data": {
      "text/plain": [
       "array([[0.00393862, 0.02087563, 0.00389974, 0.00302012, 0.00503979],\n",
       "       [0.00561345, 0.03733226, 0.01225771, 0.01462978, 0.0105447 ],\n",
       "       [0.005771  , 0.0228602 , 0.03650416, 0.02943744, 0.01105058],\n",
       "       [0.00368746, 0.0032754 , 0.01879466, 0.00914191, 0.02462771],\n",
       "       [0.00193377, 0.00364907, 0.01142823, 0.00690261, 0.02757124],\n",
       "       [0.00548028, 0.00989007, 0.02591662, 0.00860472, 0.03168433],\n",
       "       [0.00451701, 0.01587769, 0.02999142, 0.0098604 , 0.0213147 ],\n",
       "       [0.00465049, 0.01555296, 0.02236847, 0.00693622, 0.03013922],\n",
       "       [0.01132583, 0.01271493, 0.02806921, 0.0060785 , 0.02893096],\n",
       "       [0.0146682 , 0.01109112, 0.02815478, 0.00765891, 0.04873193],\n",
       "       [0.04149864, 0.0184435 , 0.05376894, 0.00765868, 0.02643218],\n",
       "       [0.02552221, 0.01105813, 0.02323454, 0.0050342 , 0.03146314],\n",
       "       [0.02165948, 0.01023229, 0.01542433, 0.00360556, 0.02572337],\n",
       "       [0.01684993, 0.00506578, 0.01265671, 0.00330312, 0.02676742],\n",
       "       [0.01709707, 0.00461624, 0.00588176, 0.00243301, 0.02384928],\n",
       "       [0.0238513 , 0.00900704, 0.02703959, 0.0044511 , 0.01615882]])"
      ]
     },
     "execution_count": 113,
     "metadata": {},
     "output_type": "execute_result"
    }
   ],
   "source": [
    "best_low[1]"
   ]
  },
  {
   "cell_type": "code",
   "execution_count": 88,
   "metadata": {},
   "outputs": [
    {
     "data": {
      "text/plain": [
       "list"
      ]
     },
     "execution_count": 88,
     "metadata": {},
     "output_type": "execute_result"
    }
   ],
   "source": [
    "type(best_low)"
   ]
  },
  {
   "cell_type": "code",
   "execution_count": 96,
   "metadata": {},
   "outputs": [],
   "source": [
    "x = {'A': np.array([ 6.93639529,  5.50368389, 16.16332209,  1.81999001,  7.32817006]),\n",
    " 'B': np.array([ 6.93639529,  5.50368389, 16.16332209,  1.81999001,  7.32817006]),\n",
    " 'g': np.array([[ 1.63559328e+00,  2.53115790e-02, -6.14115508e-01,\n",
    "          3.97086868e-01, -7.11997389e-02],\n",
    "        [-3.40765150e-01, -1.67818232e+00, -6.27535784e-01,\t\n",
    "          2.74172819e+00,  1.17767403e+00],\n",
    "        [ 3.65249519e-01, -8.42453598e-01,  6.17097893e-01,\t\n",
    "          1.20578300e+00,  1.08643507e-01],\n",
    "        [-5.33968369e-01, -2.49576510e-02,  7.17774597e-01,\t\n",
    "          1.15205955e+00, -2.47150967e-02],\n",
    "        [-2.59961704e-04,  7.55696198e-01,  2.97621367e-01,\t\n",
    "         -6.46662672e-01,  1.12201542e+00]]),\n",
    " 'h': np.array([[ 0.24804633,  2.37364759,  1.98512295, -2.97289103,  1.69875216],\n",
    "        [ 2.97374128,  1.33372155,  2.86912441,  1.7959432 , -0.37763844],\n",
    "        [ 1.75546013, -0.87696559,  0.55404792, -0.52809716,  1.28740762],\n",
    "        [ 1.71765361,  1.80362992,  2.76520519, -0.7694687 , -2.06723462],\n",
    "        [ 0.62422748,  1.35963485,  2.45659077,  1.67809032, -0.53826891]])}\n"
   ]
  },
  {
   "cell_type": "code",
   "execution_count": 112,
   "metadata": {},
   "outputs": [
    {
     "name": "stdout",
     "output_type": "stream",
     "text": [
      "-1.67818232\n",
      "-1.6781823157080482\n"
     ]
    }
   ],
   "source": [
    "\n",
    "print(best_low[0]['g'][1][1])"
   ]
  },
  {
   "cell_type": "code",
   "execution_count": 298,
   "metadata": {},
   "outputs": [
    {
     "data": {
      "text/html": [
       "<div>\n",
       "<style scoped>\n",
       "    .dataframe tbody tr th:only-of-type {\n",
       "        vertical-align: middle;\n",
       "    }\n",
       "\n",
       "    .dataframe tbody tr th {\n",
       "        vertical-align: top;\n",
       "    }\n",
       "\n",
       "    .dataframe thead th {\n",
       "        text-align: right;\n",
       "    }\n",
       "</style>\n",
       "<table border=\"1\" class=\"dataframe\">\n",
       "  <thead>\n",
       "    <tr style=\"text-align: right;\">\n",
       "      <th></th>\n",
       "      <th>0</th>\n",
       "      <th>1</th>\n",
       "      <th>2</th>\n",
       "      <th>3</th>\n",
       "      <th>4</th>\n",
       "    </tr>\n",
       "  </thead>\n",
       "  <tbody>\n",
       "    <tr>\n",
       "      <th>0</th>\n",
       "      <td>4.166269e+25</td>\n",
       "      <td>1.199652e+14</td>\n",
       "      <td>8.216173</td>\n",
       "      <td>1.670526e+10</td>\n",
       "      <td>1.005465e+33</td>\n",
       "    </tr>\n",
       "    <tr>\n",
       "      <th>1</th>\n",
       "      <td>1.600354e+01</td>\n",
       "      <td>3.287835e+12</td>\n",
       "      <td>8.216489</td>\n",
       "      <td>1.670526e+10</td>\n",
       "      <td>4.526870e+07</td>\n",
       "    </tr>\n",
       "    <tr>\n",
       "      <th>2</th>\n",
       "      <td>1.600354e+01</td>\n",
       "      <td>3.287835e+12</td>\n",
       "      <td>8.216489</td>\n",
       "      <td>1.316148e+01</td>\n",
       "      <td>4.526870e+07</td>\n",
       "    </tr>\n",
       "    <tr>\n",
       "      <th>3</th>\n",
       "      <td>1.600354e+01</td>\n",
       "      <td>3.287835e+12</td>\n",
       "      <td>8.216489</td>\n",
       "      <td>1.316148e+01</td>\n",
       "      <td>4.526870e+07</td>\n",
       "    </tr>\n",
       "    <tr>\n",
       "      <th>4</th>\n",
       "      <td>1.600354e+01</td>\n",
       "      <td>1.509499e+01</td>\n",
       "      <td>8.216489</td>\n",
       "      <td>1.316148e+01</td>\n",
       "      <td>4.526870e+07</td>\n",
       "    </tr>\n",
       "    <tr>\n",
       "      <th>...</th>\n",
       "      <td>...</td>\n",
       "      <td>...</td>\n",
       "      <td>...</td>\n",
       "      <td>...</td>\n",
       "      <td>...</td>\n",
       "    </tr>\n",
       "    <tr>\n",
       "      <th>95</th>\n",
       "      <td>1.283193e+01</td>\n",
       "      <td>1.509499e+01</td>\n",
       "      <td>8.216489</td>\n",
       "      <td>1.005003e+01</td>\n",
       "      <td>1.581908e+01</td>\n",
       "    </tr>\n",
       "    <tr>\n",
       "      <th>96</th>\n",
       "      <td>1.283193e+01</td>\n",
       "      <td>1.509499e+01</td>\n",
       "      <td>8.216489</td>\n",
       "      <td>1.005003e+01</td>\n",
       "      <td>1.581908e+01</td>\n",
       "    </tr>\n",
       "    <tr>\n",
       "      <th>97</th>\n",
       "      <td>1.283193e+01</td>\n",
       "      <td>1.509499e+01</td>\n",
       "      <td>8.216489</td>\n",
       "      <td>1.005003e+01</td>\n",
       "      <td>1.581908e+01</td>\n",
       "    </tr>\n",
       "    <tr>\n",
       "      <th>98</th>\n",
       "      <td>1.283193e+01</td>\n",
       "      <td>1.509499e+01</td>\n",
       "      <td>8.216489</td>\n",
       "      <td>1.005003e+01</td>\n",
       "      <td>1.581908e+01</td>\n",
       "    </tr>\n",
       "    <tr>\n",
       "      <th>99</th>\n",
       "      <td>1.283193e+01</td>\n",
       "      <td>1.509499e+01</td>\n",
       "      <td>8.216489</td>\n",
       "      <td>1.005003e+01</td>\n",
       "      <td>1.394990e+01</td>\n",
       "    </tr>\n",
       "  </tbody>\n",
       "</table>\n",
       "<p>100 rows × 5 columns</p>\n",
       "</div>"
      ],
      "text/plain": [
       "               0             1         2             3             4\n",
       "0   4.166269e+25  1.199652e+14  8.216173  1.670526e+10  1.005465e+33\n",
       "1   1.600354e+01  3.287835e+12  8.216489  1.670526e+10  4.526870e+07\n",
       "2   1.600354e+01  3.287835e+12  8.216489  1.316148e+01  4.526870e+07\n",
       "3   1.600354e+01  3.287835e+12  8.216489  1.316148e+01  4.526870e+07\n",
       "4   1.600354e+01  1.509499e+01  8.216489  1.316148e+01  4.526870e+07\n",
       "..           ...           ...       ...           ...           ...\n",
       "95  1.283193e+01  1.509499e+01  8.216489  1.005003e+01  1.581908e+01\n",
       "96  1.283193e+01  1.509499e+01  8.216489  1.005003e+01  1.581908e+01\n",
       "97  1.283193e+01  1.509499e+01  8.216489  1.005003e+01  1.581908e+01\n",
       "98  1.283193e+01  1.509499e+01  8.216489  1.005003e+01  1.581908e+01\n",
       "99  1.283193e+01  1.509499e+01  8.216489  1.005003e+01  1.394990e+01\n",
       "\n",
       "[100 rows x 5 columns]"
      ]
     },
     "execution_count": 298,
     "metadata": {},
     "output_type": "execute_result"
    }
   ],
   "source": [
    "df"
   ]
  },
  {
   "cell_type": "code",
   "execution_count": 275,
   "metadata": {},
   "outputs": [
    {
     "name": "stdout",
     "output_type": "stream",
     "text": [
      "0.19\n",
      "1.288\n",
      "17691.006\n",
      "0.0\n",
      "0.201\n"
     ]
    }
   ],
   "source": [
    "e = np.power([0.0045, 0.0324, 0.0075, 0.0221, 0.012],[0.307, -0.0739, -1.999,  2.182,  0.363])\n",
    "for i in range(len(e)):\n",
    "    e[i] = formatfunc(e[i])\n",
    "    print(e[i])"
   ]
  },
  {
   "cell_type": "code",
   "execution_count": 269,
   "metadata": {},
   "outputs": [],
   "source": [
    "def formatfunc(a):\n",
    "    return \"{0:0.3f}\".format(a)"
   ]
  },
  {
   "cell_type": "code",
   "execution_count": 280,
   "metadata": {},
   "outputs": [
    {
     "data": {
      "text/plain": [
       "array([1.9000e-01, 1.2880e+00, 1.7691e+04, 0.0000e+00, 2.0100e-01])"
      ]
     },
     "execution_count": 280,
     "metadata": {},
     "output_type": "execute_result"
    }
   ],
   "source": [
    "e"
   ]
  },
  {
   "cell_type": "code",
   "execution_count": 272,
   "metadata": {},
   "outputs": [
    {
     "data": {
      "text/plain": [
       "array([ 1,  4,  9, 16, 25], dtype=int32)"
      ]
     },
     "execution_count": 272,
     "metadata": {},
     "output_type": "execute_result"
    }
   ],
   "source": [
    "np.power([1,2,3,4,5],[2,2,2,2,2])"
   ]
  },
  {
   "cell_type": "code",
   "execution_count": null,
   "metadata": {},
   "outputs": [],
   "source": []
  },
  {
   "cell_type": "code",
   "execution_count": null,
   "metadata": {},
   "outputs": [],
   "source": []
  },
  {
   "cell_type": "code",
   "execution_count": 395,
   "metadata": {},
   "outputs": [],
   "source": [
    "final_gene_expression = best_low[1]"
   ]
  },
  {
   "cell_type": "code",
   "execution_count": 386,
   "metadata": {},
   "outputs": [
    {
     "data": {
      "image/png": "[encoded data removed]",
      "text/plain": [
       "<Figure size 432x288 with 1 Axes>"
      ]
     },
     "metadata": {
      "needs_background": "light"
     },
     "output_type": "display_data"
    }
   ],
   "source": [
    "plt.plot(t, final_gene_expression[:,0], marker='o', color='black', linestyle='dashed'  )\n",
    "plt.plot(t, real_G_ex[:,0], marker='o', color='red')\n",
    "plt.xlabel('time')\n",
    "plt.ylabel('Gene expression for Gene1')\n",
    "plt.legend(('numerical','orginal'))\n",
    "plt.show()"
   ]
  },
  {
   "cell_type": "code",
   "execution_count": 387,
   "metadata": {},
   "outputs": [
    {
     "data": {
      "image/png": "[encoded data removed]",
      "text/plain": [
       "<Figure size 432x288 with 1 Axes>"
      ]
     },
     "metadata": {
      "needs_background": "light"
     },
     "output_type": "display_data"
    }
   ],
   "source": [
    "plt.plot(t, final_gene_expression[:,1], marker = 'o', color='black', linestyle='dashed')\n",
    "plt.plot(t, real_G_ex[:,1], marker='o', color='red')\n",
    "plt.xlabel('time')\n",
    "plt.ylabel('Gene expression for Gene2')\n",
    "plt.legend(('numerical','orginal'))\n",
    "plt.show()"
   ]
  },
  {
   "cell_type": "code",
   "execution_count": 388,
   "metadata": {},
   "outputs": [
    {
     "data": {
      "image/png": "[encoded data removed]",
      "text/plain": [
       "<Figure size 432x288 with 1 Axes>"
      ]
     },
     "metadata": {
      "needs_background": "light"
     },
     "output_type": "display_data"
    }
   ],
   "source": [
    "plt.plot(t, final_gene_expression[:,2], marker='o', color='black', linestyle='dashed' )\n",
    "plt.plot(t, real_G_ex[:,2], marker='o', color='red')\n",
    "plt.xlabel('time')\n",
    "plt.ylabel('Gene expression for Gene3 ')\n",
    "plt.legend(('numerical','orginal'))\n",
    "plt.show()"
   ]
  },
  {
   "cell_type": "code",
   "execution_count": 389,
   "metadata": {},
   "outputs": [
    {
     "data": {
      "image/png": "[encoded data removed]",
      "text/plain": [
       "<Figure size 432x288 with 1 Axes>"
      ]
     },
     "metadata": {
      "needs_background": "light"
     },
     "output_type": "display_data"
    }
   ],
   "source": [
    "plt.plot(t, final_gene_expression[:,3],marker='o', color='black', linestyle='dashed')\n",
    "plt.plot(t, real_G_ex[:,3], marker='o', color='red')\n",
    "plt.xlabel('time')\n",
    "plt.ylabel('Gene expression for Gene4')\n",
    "plt.legend(('numerical','orginal'))\n",
    "plt.show()"
   ]
  },
  {
   "cell_type": "code",
   "execution_count": 390,
   "metadata": {},
   "outputs": [
    {
     "data": {
      "image/png": "[encoded data removed]",
      "text/plain": [
       "<Figure size 432x288 with 1 Axes>"
      ]
     },
     "metadata": {
      "needs_background": "light"
     },
     "output_type": "display_data"
    }
   ],
   "source": [
    "plt.plot(t, final_gene_expression[:,4], marker='o', color='black', linestyle='dashed')\n",
    "plt.plot(t, real_G_ex[:,4], marker='o', color='red')\n",
    "plt.xlabel('time')\n",
    "plt.ylabel('Gene expression for Gene5')\n",
    "plt.legend(('numerical','orginal'))\n",
    "plt.show()"
   ]
  },
  {
   "cell_type": "code",
   "execution_count": 118,
   "metadata": {},
   "outputs": [
    {
     "data": {
      "text/html": [
       "<div>\n",
       "<style scoped>\n",
       "    .dataframe tbody tr th:only-of-type {\n",
       "        vertical-align: middle;\n",
       "    }\n",
       "\n",
       "    .dataframe tbody tr th {\n",
       "        vertical-align: top;\n",
       "    }\n",
       "\n",
       "    .dataframe thead th {\n",
       "        text-align: right;\n",
       "    }\n",
       "</style>\n",
       "<table border=\"1\" class=\"dataframe\">\n",
       "  <thead>\n",
       "    <tr style=\"text-align: right;\">\n",
       "      <th></th>\n",
       "      <th>0</th>\n",
       "    </tr>\n",
       "  </thead>\n",
       "  <tbody>\n",
       "    <tr>\n",
       "      <th>0</th>\n",
       "      <td>1.699209</td>\n",
       "    </tr>\n",
       "    <tr>\n",
       "      <th>1</th>\n",
       "      <td>3.239487</td>\n",
       "    </tr>\n",
       "    <tr>\n",
       "      <th>2</th>\n",
       "      <td>2.559580</td>\n",
       "    </tr>\n",
       "    <tr>\n",
       "      <th>3</th>\n",
       "      <td>1.907506</td>\n",
       "    </tr>\n",
       "    <tr>\n",
       "      <th>4</th>\n",
       "      <td>1.231516</td>\n",
       "    </tr>\n",
       "  </tbody>\n",
       "</table>\n",
       "</div>"
      ],
      "text/plain": [
       "          0\n",
       "0  1.699209\n",
       "1  3.239487\n",
       "2  2.559580\n",
       "3  1.907506\n",
       "4  1.231516"
      ]
     },
     "execution_count": 118,
     "metadata": {},
     "output_type": "execute_result"
    }
   ],
   "source": [
    "a = [1,1,1,1,1]\n",
    "df3"
   ]
  },
  {
   "cell_type": "code",
   "execution_count": 509,
   "metadata": {},
   "outputs": [
    {
     "data": {
      "text/plain": [
       "1"
      ]
     },
     "execution_count": 509,
     "metadata": {},
     "output_type": "execute_result"
    }
   ],
   "source": [
    "max(a)"
   ]
  },
  {
   "cell_type": "code",
   "execution_count": 42,
   "metadata": {},
   "outputs": [],
   "source": [
    "g = all_values[4999][0]"
   ]
  },
  {
   "cell_type": "code",
   "execution_count": 77,
   "metadata": {},
   "outputs": [],
   "source": [
    "best_low = all_values[len(all_values)-1]"
   ]
  },
  {
   "cell_type": "code",
   "execution_count": 114,
   "metadata": {},
   "outputs": [],
   "source": [
    "#df1 = pd.DataFrame(best_low[0])\n",
    "df2 = pd.DataFrame(best_low[1])\n",
    "df3 = pd.DataFrame(best_low[2])"
   ]
  },
  {
   "cell_type": "code",
   "execution_count": 117,
   "metadata": {},
   "outputs": [],
   "source": [
    "from openpyxl import load_workbook\n",
    "writer = pd.ExcelWriter(\"BestValues.xlsx\", engine = 'openpyxl')\n",
    "book = load_workbook(\"BestValues.xlsx\")\n",
    "writer.book = book\n",
    "#df1.to_excel(writer, sheet_name = 'sheet1')\n",
    "df2.to_excel(writer, sheet_name = 'sheet2')\n",
    "df3.to_excel(writer, sheet_name = 'sheet3')\n",
    "\n",
    "writer.save()\n",
    "writer.close()"
   ]
  },
  {
   "cell_type": "code",
   "execution_count": 95,
   "metadata": {},
   "outputs": [
    {
     "data": {
      "text/plain": [
       "array([3.6993879 , 2.11181195, 3.78771874, 1.76158111, 1.67580327])"
      ]
     },
     "execution_count": 95,
     "metadata": {},
     "output_type": "execute_result"
    }
   ],
   "source": [
    "best_low[2]."
   ]
  },
  {
   "cell_type": "code",
   "execution_count": 2,
   "metadata": {},
   "outputs": [
    {
     "data": {
      "text/plain": [
       "10"
      ]
     },
     "execution_count": 2,
     "metadata": {},
     "output_type": "execute_result"
    }
   ],
   "source": [
    "a=10\n",
    "a"
   ]
  },
  {
   "cell_type": "code",
   "execution_count": 57,
   "metadata": {},
   "outputs": [
    {
     "name": "stdout",
     "output_type": "stream",
     "text": [
      "[12.691776   12.2027431  15.88465372  0.05503922  4.74752704]\n",
      "[ 0.92209275  8.84030781 18.13880952 15.22909944  3.13073066]\n",
      "[[-2.91913562  1.09028011  1.67133454 -1.28321657 -2.56307321]\n",
      " [ 0.37924635 -2.9644699   1.16225907 -0.49128568  1.92392787]\n",
      " [-1.76308201 -2.33504016  1.81040881 -2.89809324 -0.21571803]\n",
      " [-2.37928861 -2.38365152  2.42326338  2.73916875 -0.86692496]\n",
      " [-2.85034394  0.63190303  0.87281942  1.13564881 -0.01636046]]\n",
      "[[-9.31960478e-01 -2.07603003e+00 -2.61430492e+00 -1.92536420e+00\n",
      "  -1.86679259e+00]\n",
      " [ 7.82958147e-01  1.35090898e+00 -2.68438879e+00  1.42461156e+00\n",
      "   2.95625819e-01]\n",
      " [-2.67831218e-01  5.29899188e-04 -4.20594353e-01  1.26647445e+00\n",
      "  -2.36447459e+00]\n",
      " [-4.41590187e-01 -1.80628517e+00 -2.84121238e+00 -2.72576248e+00\n",
      "  -2.21154640e+00]\n",
      " [ 2.48615886e+00 -1.39247460e+00 -2.33018180e+00 -1.29605762e+00\n",
      "   7.59854744e-01]]\n"
     ]
    },
    {
     "ename": "NameError",
     "evalue": "name 'g_temp' is not defined",
     "output_type": "error",
     "traceback": [
      "\u001b[1;31m---------------------------------------------------------------------------\u001b[0m",
      "\u001b[1;31mNameError\u001b[0m                                 Traceback (most recent call last)",
      "\u001b[1;32m<ipython-input-57-53d3383dd41e>\u001b[0m in \u001b[0;36m<module>\u001b[1;34m\u001b[0m\n\u001b[0;32m      1\u001b[0m \u001b[0mx\u001b[0m \u001b[1;33m=\u001b[0m \u001b[0mrandom_population\u001b[0m\u001b[1;33m(\u001b[0m\u001b[1;33m)\u001b[0m\u001b[1;33m\u001b[0m\u001b[1;33m\u001b[0m\u001b[0m\n\u001b[1;32m----> 2\u001b[1;33m \u001b[0mnext_generation\u001b[0m\u001b[1;33m(\u001b[0m\u001b[0mx\u001b[0m\u001b[1;33m)\u001b[0m\u001b[1;33m\u001b[0m\u001b[1;33m\u001b[0m\u001b[0m\n\u001b[0m",
      "\u001b[1;32m<ipython-input-56-18bb5e96bad3>\u001b[0m in \u001b[0;36mnext_generation\u001b[1;34m(g)\u001b[0m\n\u001b[0;32m     16\u001b[0m \u001b[1;33m\u001b[0m\u001b[0m\n\u001b[0;32m     17\u001b[0m \u001b[1;33m\u001b[0m\u001b[0m\n\u001b[1;32m---> 18\u001b[1;33m     \u001b[1;32mreturn\u001b[0m\u001b[1;33m(\u001b[0m\u001b[0mg_temp\u001b[0m\u001b[1;33m)\u001b[0m\u001b[1;33m\u001b[0m\u001b[1;33m\u001b[0m\u001b[0m\n\u001b[0m",
      "\u001b[1;31mNameError\u001b[0m: name 'g_temp' is not defined"
     ]
    }
   ],
   "source": [
    "x = random_population()\n",
    "next_generation(x)"
   ]
  },
  {
   "cell_type": "code",
   "execution_count": 49,
   "metadata": {},
   "outputs": [
    {
     "name": "stdout",
     "output_type": "stream",
     "text": [
      "(5, 5)\n",
      "[[-0.07626314  0.64736888  0.15043775 -0.72646316 -1.73144369]\n",
      " [-0.28693872  1.9787009   0.86167763  2.73268254  2.65776576]\n",
      " [-0.66932744 -1.72933992  0.61713187  1.47723728  1.61250119]\n",
      " [ 2.41292357 -1.35707794 -2.65274548  2.01805879 -0.22982686]\n",
      " [-0.82164159  1.88916805  0.20764746 -0.41599401 -2.51829782]] [[-1.52864044  1.74720186  0.12257632  1.33829322 -1.9227897 ]\n",
      " [ 0.04337138 -2.77058959  1.69119378  2.80589276  0.95852251]\n",
      " [-0.22150919 -0.57456065 -2.61425598 -2.31579605 -1.46698483]\n",
      " [ 0.43063864  0.59610644 -1.00512134  1.49544482 -2.92353504]\n",
      " [ 0.1039642  -1.02313364 -1.48993845  0.01424799  0.65207327]] [[-0.42736273  1.32477509 -0.97451717 -2.24229449 -0.93777623]\n",
      " [-0.49016819 -0.00432063  1.07730019  1.30304151  2.00701364]\n",
      " [-1.74135393 -2.15234663 -2.20932627  0.71409279 -2.43743586]\n",
      " [-2.74190777  2.36432933  0.89154409  1.37460658  1.45682197]\n",
      " [-0.84186143  0.73090229 -1.66235545  2.91533029  1.33811725]]\n"
     ]
    }
   ],
   "source": [
    "result = mutation(-3,3,x)"
   ]
  },
  {
   "cell_type": "code",
   "execution_count": 299,
   "metadata": {},
   "outputs": [],
   "source": [
    "a = np.array([[-0.09828869,  0.65581742,  0.17237962, -0.6548514 , -1.75114396],\n",
    "       [-0.27626793,  1.92337552,  0.8739555 ,  2.76273957,  2.63679594],\n",
    "       [-0.63893055, -1.6977842 ,  0.60903327,  1.4166395 ,  1.63191021],\n",
    "       [ 2.4763745 , -1.3924424 , -2.69067878,  2.02047556, -0.317434  ],\n",
    "       [-0.80272508,  1.85408733,  0.2110958 , -0.47401565, -2.5320187 ]])"
   ]
  },
  {
   "cell_type": "code",
   "execution_count": 131,
   "metadata": {},
   "outputs": [],
   "source": [
    "a=1\n",
    "b=2"
   ]
  },
  {
   "cell_type": "code",
   "execution_count": 307,
   "metadata": {},
   "outputs": [
    {
     "data": {
      "text/plain": [
       "array([[-0.09828869,  0.65581742,  0.17237962, -0.6548514 , -1.75114396],\n",
       "       [-0.27626793,  1.92337552,  0.8739555 ,  2.76273957,  2.63679594],\n",
       "       [-0.63893055, -1.6977842 ,  0.60903327,  1.4166395 ,  1.63191021],\n",
       "       [ 2.4763745 , -1.3924424 , -2.69067878,  2.02047556, -0.317434  ],\n",
       "       [-0.80272508,  1.85408733,  0.2110958 , -0.47401565, -2.5320187 ]])"
      ]
     },
     "execution_count": 307,
     "metadata": {},
     "output_type": "execute_result"
    }
   ],
   "source": [
    "a"
   ]
  },
  {
   "cell_type": "code",
   "execution_count": 306,
   "metadata": {},
   "outputs": [
    {
     "ename": "ValueError",
     "evalue": "Iterator does not have an index",
     "output_type": "error",
     "traceback": [
      "\u001b[1;31m---------------------------------------------------------------------------\u001b[0m",
      "\u001b[1;31mValueError\u001b[0m                                Traceback (most recent call last)",
      "\u001b[1;32m<ipython-input-306-924a367a0ecc>\u001b[0m in \u001b[0;36m<module>\u001b[1;34m\u001b[0m\n\u001b[0;32m      2\u001b[0m \u001b[0mit\u001b[0m \u001b[1;33m=\u001b[0m \u001b[0mnp\u001b[0m\u001b[1;33m.\u001b[0m\u001b[0mnditer\u001b[0m\u001b[1;33m(\u001b[0m\u001b[0ma\u001b[0m\u001b[1;33m,\u001b[0m \u001b[0mflags\u001b[0m\u001b[1;33m=\u001b[0m\u001b[1;33m[\u001b[0m\u001b[1;34m'multi_index'\u001b[0m\u001b[1;33m]\u001b[0m\u001b[1;33m)\u001b[0m\u001b[1;33m\u001b[0m\u001b[1;33m\u001b[0m\u001b[0m\n\u001b[0;32m      3\u001b[0m \u001b[1;32mfor\u001b[0m \u001b[0mx\u001b[0m \u001b[1;32min\u001b[0m \u001b[0mnp\u001b[0m\u001b[1;33m.\u001b[0m\u001b[0mnditer\u001b[0m\u001b[1;33m(\u001b[0m\u001b[0ma\u001b[0m\u001b[1;33m)\u001b[0m\u001b[1;33m:\u001b[0m\u001b[1;33m\u001b[0m\u001b[1;33m\u001b[0m\u001b[0m\n\u001b[1;32m----> 4\u001b[1;33m     \u001b[0mprint\u001b[0m\u001b[1;33m(\u001b[0m\u001b[1;33m(\u001b[0m\u001b[0mx\u001b[0m\u001b[1;33m,\u001b[0m \u001b[0mit\u001b[0m\u001b[1;33m.\u001b[0m\u001b[0mindex\u001b[0m\u001b[1;33m)\u001b[0m\u001b[1;33m)\u001b[0m\u001b[1;33m\u001b[0m\u001b[1;33m\u001b[0m\u001b[0m\n\u001b[0m\u001b[0;32m      5\u001b[0m \u001b[1;33m\u001b[0m\u001b[0m\n\u001b[0;32m      6\u001b[0m \u001b[1;33m\u001b[0m\u001b[0m\n",
      "\u001b[1;31mValueError\u001b[0m: Iterator does not have an index"
     ]
    }
   ],
   "source": [
    "i = 0 \n",
    "it = np.nditer(a, flags=['multi_index'])\n",
    "for x in np.nditer(a):\n",
    "    print((x, it.index))\n",
    "    \n",
    "    \n",
    "    \n",
    "    \n",
    "    "
   ]
  },
  {
   "cell_type": "code",
   "execution_count": 260,
   "metadata": {},
   "outputs": [
    {
     "data": {
      "text/plain": [
       "array([[0, 1, 2],\n",
       "       [3, 4, 5]])"
      ]
     },
     "execution_count": 260,
     "metadata": {},
     "output_type": "execute_result"
    }
   ],
   "source": [
    "a"
   ]
  },
  {
   "cell_type": "code",
   "execution_count": 311,
   "metadata": {},
   "outputs": [
    {
     "name": "stdout",
     "output_type": "stream",
     "text": [
      "1 3\n",
      "2 2\n",
      "3 1\n"
     ]
    }
   ],
   "source": [
    "for i, j in zip([1,2,3], [3,2,1]):\n",
    "    print (i, j)"
   ]
  },
  {
   "cell_type": "code",
   "execution_count": null,
   "metadata": {},
   "outputs": [],
   "source": []
  }
 ],
 "metadata": {
  "kernelspec": {
   "display_name": "Python 3",
   "language": "python",
   "name": "python3"
  },
  "language_info": {
   "codemirror_mode": {
    "name": "ipython",
    "version": 3
   },
   "file_extension": ".py",
   "mimetype": "text/x-python",
   "name": "python",
   "nbconvert_exporter": "python",
   "pygments_lexer": "ipython3",
   "version": "3.8.5"
  }
 },
 "nbformat": 4,
 "nbformat_minor": 4
}
